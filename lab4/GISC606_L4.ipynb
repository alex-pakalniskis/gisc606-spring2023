{
  "nbformat": 4,
  "nbformat_minor": 0,
  "metadata": {
    "colab": {
      "provenance": [],
      "authorship_tag": "ABX9TyPGibkSCL1VG++IZ9QOb+W4",
      "include_colab_link": true
    },
    "kernelspec": {
      "name": "python3",
      "display_name": "Python 3"
    },
    "language_info": {
      "name": "python"
    }
  },
  "cells": [
    {
      "cell_type": "markdown",
      "metadata": {
        "id": "view-in-github",
        "colab_type": "text"
      },
      "source": [
        "<a href=\"https://colab.research.google.com/github/alex-pakalniskis/gisc606-spring2023/blob/main/lab4/GISC606_L4.ipynb\" target=\"_parent\"><img src=\"https://colab.research.google.com/assets/colab-badge.svg\" alt=\"Open In Colab\"/></a>"
      ]
    },
    {
      "cell_type": "markdown",
      "source": [
        "# Lab 4: Uncertainty in Remote Sensing Data\n",
        "\n",
        "*Due April 22 before 9am Pacific*\n",
        "\n",
        "This lab is an adaptation of Earth Lab's [Uncertainty and Remote Sensing Data](https://www.earthdatascience.org/courses/use-data-open-source-python/spatial-data-applications/lidar-remote-sensing-uncertainty/) textbook course module\n"
      ],
      "metadata": {
        "id": "2zYQdFQnuevN"
      }
    },
    {
      "cell_type": "markdown",
      "source": [
        "## Part 0:Workspace setup"
      ],
      "metadata": {
        "id": "iAsL02iT6MzI"
      }
    },
    {
      "cell_type": "code",
      "source": [
        "# Download Lidar data and unzip it\n",
        "\n",
        "# https://linux.die.net/man/1/wget\n",
        "!wget https://ndownloader.figshare.com/files/12459464\n",
        "\n",
        "#https://linux.die.net/man/1/unzip\n",
        "!unzip 12459464 "
      ],
      "metadata": {
        "id": "Eu8AZ_b3VDHQ"
      },
      "execution_count": null,
      "outputs": []
    },
    {
      "cell_type": "code",
      "source": [
        "# Install python dependencies with pip\n",
        "\n",
        "# pip: https://pypi.org/project/pip/\n",
        "# Geopandas: https://geopandas.org/en/stable/\n",
        "# Rioxarray: https://corteva.github.io/rioxarray/stable/\n",
        "# Earthpy: https://earthpy.readthedocs.io/en/latest/index.html\n",
        "# Rasterstats: https://pythonhosted.org/rasterstats/\n",
        "!pip install geopandas rioxarray earthpy rasterstats"
      ],
      "metadata": {
        "id": "8GfSvdAdUGxN"
      },
      "execution_count": null,
      "outputs": []
    },
    {
      "cell_type": "code",
      "source": [
        "# Import some libraries to visualize study site as a webmap\n",
        "\n",
        "# Geopandas: https://geopandas.org/en/stable/\n",
        "import geopandas as gpd\n",
        "\n",
        "# Folium: https://python-visualization.github.io/folium/\n",
        "import folium"
      ],
      "metadata": {
        "id": "ls9nU8RXUBJj"
      },
      "execution_count": null,
      "outputs": []
    },
    {
      "cell_type": "code",
      "source": [
        "# Read the shapefile into memory\n",
        "\n",
        "# https://geopandas.org/en/stable/docs/reference/api/geopandas.read_file.html\n",
        "site_boundary = gpd.read_file(\"california/neon-sjer-site/vector_data/SJER_plot_centroids.shp\")\n",
        "\n",
        "# Transform shapefile geometries to a new coordinate reference system\n",
        "\n",
        "# https://geopandas.org/en/stable/docs/reference/api/geopandas.GeoDataFrame.to_crs.html\n",
        "site_boundary_prj = site_boundary.to_crs(\"EPSG:4326\")\n",
        "\n",
        "\n",
        "# Instantiate a folium map\n",
        "\n",
        "# https://python-visualization.github.io/folium/modules.html#module-folium.map\n",
        "m = folium.Map(\n",
        "    tiles='https://server.arcgisonline.com/ArcGIS/rest/services/World_Imagery/MapServer/tile/{z}/{y}/{x}',\n",
        "    attr=\"Tiles &copy; Esri &mdash; Source: Esri, i-cubed, USDA, USGS, AEX, GeoEye, Getmapping, Aerogrid, IGN, IGP, UPR-EGP, and the GIS User Community\"\n",
        "    )\n",
        "\n",
        "# Add GeoJSON vector layer to the folium map\n",
        "\n",
        "# https://python-visualization.github.io/folium/modules.html#folium.features.GeoJson\n",
        "folium.GeoJson(data=site_boundary[\"geometry\"]).add_to(m)\n",
        "\n",
        "# Create a helper variable for prettier plotting\n",
        "padding = 0.01\n",
        "\n",
        "# Fit the map to a bounding box (with padding) around the GeoJSON vector layer\n",
        "\n",
        "# https://python-visualization.github.io/folium/modules.html#folium.folium.Map.fit_bounds\n",
        "m.fit_bounds(\n",
        "    [\n",
        "        [\n",
        "            site_boundary_prj.total_bounds[1]-padding, \n",
        "            site_boundary_prj.total_bounds[0]-padding\n",
        "         ],\n",
        "        [\n",
        "            site_boundary_prj.total_bounds[3]+8*padding, \n",
        "            site_boundary_prj.total_bounds[2]+8*padding\n",
        "         ]\n",
        "        ]\n",
        "    )\n",
        "\n",
        "\n",
        "# Plot the map\n",
        "m"
      ],
      "metadata": {
        "id": "llE5k8oITaOr"
      },
      "execution_count": null,
      "outputs": []
    },
    {
      "cell_type": "markdown",
      "source": [
        "## Part 1: Extract Data from Raster"
      ],
      "metadata": {
        "id": "EK0Kw-Qk6R8g"
      }
    },
    {
      "cell_type": "code",
      "source": [
        "# Import more Python libraries for data analysis and visualization\n",
        "\n",
        "#https://docs.python.org/3/library/os.html\n",
        "import os \n",
        "#https://matplotlib.org/stable/api/pyplot_summary.html#module-matplotlib.pyplot\n",
        "import matplotlib.pyplot as plt \n",
        "#https://seaborn.pydata.org/\n",
        "import seaborn as sns \n",
        "#https://numpy.org/\n",
        "import numpy as np \n",
        "#https://numpy.org/doc/stable/reference/maskedarray.generic.html\n",
        "import numpy.ma as ma \n",
        "#https://pandas.pydata.org/\n",
        "import pandas as pd \n",
        "#https://corteva.github.io/rioxarray/stable/\n",
        "import rioxarray as rxr \n",
        "#https://rasterio.readthedocs.io/en/stable/api/rasterio.plot.html#rasterio.plot.plotting_extent\n",
        "from rasterio.plot import plotting_extent \n",
        "#https://geopandas.org/en/stable/\n",
        "import geopandas as gpd \n",
        "#https://pythonhosted.org/rasterstats/\n",
        "import rasterstats as rs \n",
        "#https://earthpy.readthedocs.io/en/latest/\n",
        "import earthpy as et \n",
        "#https://earthpy.readthedocs.io/en/latest/api/earthpy.plot.html\n",
        "import earthpy.plot as ep \n",
        "#https://seaborn.pydata.org/generated/seaborn.set_style.html\n",
        "sns.set_style(\"white\") \n",
        "#https://seaborn.pydata.org/generated/seaborn.set.html\n",
        "sns.set(font_scale=1.5) "
      ],
      "metadata": {
        "id": "slAy9KuXLyqg"
      },
      "execution_count": null,
      "outputs": []
    },
    {
      "cell_type": "code",
      "source": [
        "# Download data (technically redundant but we'll do it anyways) and set working directory\n",
        "\n",
        "#https://earthpy.readthedocs.io/en/latest/api/earthpy.io.html#earthpy.io.Data.get_data\n",
        "data = et.data.get_data(\"spatial-vector-lidar\") \n",
        "#https://docs.python.org/3/library/os.html#os.chdir, https://docs.python.org/3/library/os.path.html#os.path.join\n",
        "os.chdir(\n",
        "    os.path.join(\n",
        "        et.io.HOME, \n",
        "        'earth-analytics', \n",
        "        'data'\n",
        "        )\n",
        "    ) "
      ],
      "metadata": {
        "id": "fPE4C192hW7I"
      },
      "execution_count": null,
      "outputs": []
    },
    {
      "cell_type": "code",
      "source": [
        "# Load & plot the data\n",
        "\n",
        "#https://docs.python.org/3/library/os.path.html#os.path.join\n",
        "sjer_lidar_chm_path = os.path.join(\n",
        "    \"spatial-vector-lidar\",\n",
        "    \"california\", \n",
        "    \"neon-sjer-site\",\n",
        "    \"2013\", \n",
        "    \"lidar\", \n",
        "    \"SJER_lidarCHM.tif\"\n",
        "    ) \n",
        "#https://docs.xarray.dev/en/stable/generated/xarray.open_rasterio.html\n",
        "sjer_chm_data = rxr.open_rasterio(\n",
        "    sjer_lidar_chm_path, \n",
        "    masked=True\n",
        "    ).squeeze() "
      ],
      "metadata": {
        "id": "YEihQM1Nu-Xa"
      },
      "execution_count": null,
      "outputs": []
    },
    {
      "cell_type": "code",
      "source": [
        "# Explore the data by plotting a histogram with earthpy\n",
        "\n",
        "#https://earthpy.readthedocs.io/en/latest/api/earthpy.plot.html#earthpy.plot.hist\n",
        "ax = ep.hist(\n",
        "    sjer_chm_data.values,\n",
        "    figsize=(8, 8),\n",
        "    colors=\"purple\",\n",
        "    xlabel=\"Lidar Estimated Tree Height (m)\",\n",
        "    ylabel=\"Total Pixels\",\n",
        "    title=\"Distribution of Pixel Values \\n Lidar Canopy Height Model\"\n",
        "    ) \n",
        "#https://matplotlib.org/stable/api/_as_gen/matplotlib.axes.Axes.ticklabel_format.html\n",
        "ax[1].ticklabel_format(\n",
        "    useOffset=False,\n",
        "    style='plain'\n",
        "    ) "
      ],
      "metadata": {
        "id": "kXAkfMwNu-aA"
      },
      "execution_count": null,
      "outputs": []
    },
    {
      "cell_type": "code",
      "source": [
        "# View summary statistics of canopy height model\n",
        "# Notice the mean value with 0's included in the data\n",
        "\n",
        "#https://docs.xarray.dev/en/stable/generated/xarray.DataArray.mean.html\n",
        "print('Mean:', sjer_chm_data.mean().values) \n",
        "#https://docs.xarray.dev/en/stable/generated/xarray.DataArray.max.html\n",
        "print('Max:', sjer_chm_data.max().values) \n",
        "#https://docs.xarray.dev/en/stable/generated/xarray.DataArray.min.html\n",
        "print('Min:', sjer_chm_data.min().values) "
      ],
      "metadata": {
        "id": "yMwOYvhzu-cz"
      },
      "execution_count": null,
      "outputs": []
    },
    {
      "cell_type": "code",
      "source": [
        "# Set CHM values of 0 to NAN (no data or not a number) and view summary statistics of canopy height model after cleaning up the data\n",
        "\n",
        "#https://docs.xarray.dev/en/stable/generated/xarray.DataArray.where.html\n",
        "sjer_chm_data_no_zeros = sjer_chm_data.where(sjer_chm_data != 0, np.nan)\n",
        "#https://docs.xarray.dev/en/stable/generated/xarray.DataArray.mean.html\n",
        "print('Mean:', sjer_chm_data_no_zeros.mean().values) \n",
        "#https://docs.xarray.dev/en/stable/generated/xarray.DataArray.max.html\n",
        "print('Max:', sjer_chm_data_no_zeros.max().values) \n",
        "#https://docs.xarray.dev/en/stable/generated/xarray.DataArray.min.html\n",
        "print('Min:', sjer_chm_data_no_zeros.min().values) "
      ],
      "metadata": {
        "id": "2gve9aisu-ft"
      },
      "execution_count": null,
      "outputs": []
    },
    {
      "cell_type": "code",
      "source": [
        "# Explore the data by plotting a histogram with earthpy\n",
        "\n",
        "#https://earthpy.readthedocs.io/en/latest/api/earthpy.plot.html#earthpy.plot.hist\n",
        "ax = ep.hist(sjer_chm_data_no_zeros.values,\n",
        "             figsize=(8, 8),\n",
        "             colors=\"purple\",\n",
        "             xlabel=\"Lidar Estimated Tree Height (m)\",\n",
        "             ylabel=\"Total Pixels\",\n",
        "             title=\"Distribution of Pixel Values \\n Lidar Canopy Height Model\") \n",
        "#https://matplotlib.org/stable/api/_as_gen/matplotlib.axes.Axes.ticklabel_format.html\n",
        "ax[1].ticklabel_format(useOffset=False,\n",
        "                       style='plain') "
      ],
      "metadata": {
        "id": "tTXQ2tvTu-ib"
      },
      "execution_count": null,
      "outputs": []
    },
    {
      "cell_type": "code",
      "source": [
        "# Explore the insitu measurement data\n",
        "\n",
        "#https://docs.python.org/3/library/os.path.html#os.path.join\n",
        "sjer_centroids_path = os.path.join(\"spatial-vector-lidar\",\n",
        "                                   \"california\", \n",
        "                                   \"neon-sjer-site\",\n",
        "                                   \"vector_data\", \n",
        "                                   \"SJER_plot_centroids.shp\") \n",
        "#https://geopandas.org/en/stable/docs/reference/api/geopandas.read_file.html\n",
        "sjer_plots_points = gpd.read_file(sjer_centroids_path) \n",
        "#https://geopandas.org/en/stable/docs/reference/api/geopandas.GeoDataFrame.html\n",
        "sjer_plots_points.head() \n"
      ],
      "metadata": {
        "id": "1QMG1_8_u-lY"
      },
      "execution_count": null,
      "outputs": []
    },
    {
      "cell_type": "code",
      "source": [
        "# Plot the insitu measurement site data\n",
        "\n",
        "#https://matplotlib.org/stable/api/_as_gen/matplotlib.pyplot.subplots.html\n",
        "fig, ax = plt.subplots(figsize=(10, 10)) \n",
        "\n",
        "# We plot with the zeros in the data so the CHM can be better represented visually\n",
        "#https://earthpy.readthedocs.io/en/latest/api/earthpy.plot.html#earthpy.plot.plot_bands\n",
        "ep.plot_bands(sjer_chm_data,\n",
        "              extent=plotting_extent(sjer_chm_data,\n",
        "                                     sjer_chm_data.rio.transform()),  # Set spatial extent\n",
        "              cmap='Greys',\n",
        "              title=\"San Joachin Field Site \\n Vegetation Plot Locations\",\n",
        "              scale=False,\n",
        "              ax=ax) \n",
        "#https://geopandas.org/en/stable/docs/reference/api/geopandas.GeoDataFrame.plot.html\n",
        "sjer_plots_points.plot(ax=ax,\n",
        "                       marker='s',\n",
        "                       markersize=45,\n",
        "                       color='purple') \n",
        "#https://matplotlib.org/stable/api/_as_gen/matplotlib.axes.Axes.set_axis_off.html\n",
        "ax.set_axis_off() \n",
        "#https://matplotlib.org/stable/api/_as_gen/matplotlib.pyplot.show.html\n",
        "plt.show() "
      ],
      "metadata": {
        "id": "hc0f3padu-oN"
      },
      "execution_count": null,
      "outputs": []
    },
    {
      "cell_type": "code",
      "source": [
        "# Make a copy of the plot points for buffering\n",
        "\n",
        "#https://geopandas.org/en/stable/docs/reference/api/geopandas.GeoDataFrame.html\n",
        "sjer_plots_poly = sjer_plots_points.copy() \n",
        "\n",
        "# Create a buffered polygon layer from your plot location points\n",
        "# Buffer each point using a 20 meter circle radius\n",
        "# and replace the point geometry with the new buffered geometry\n",
        "\n",
        "#https://geopandas.org/en/stable/docs/reference/api/geopandas.GeoSeries.buffer.html\n",
        "sjer_plots_poly[\"geometry\"] = sjer_plots_points.geometry.buffer(20) \n",
        "#https://geopandas.org/en/stable/docs/reference/api/geopandas.GeoDataFrame.html\n",
        "sjer_plots_poly.head() "
      ],
      "metadata": {
        "id": "3_4SZYFtxEEx"
      },
      "execution_count": null,
      "outputs": []
    },
    {
      "cell_type": "code",
      "source": [
        "# If the dir does not exist, create it\n",
        "\n",
        "#https://docs.python.org/3/library/os.path.html#os.path.join\n",
        "output_path = os.path.join(\"spatial-vector-lidar\", \n",
        "                           \"outputs\") \n",
        "#https://docs.python.org/3/library/os.path.html#os.path.isdir\n",
        "if not os.path.isdir(output_path): \n",
        "#https://docs.python.org/3/library/os.html#os.mkdir\n",
        "    os.mkdir(output_path) \n",
        "\n",
        "# Export the buffered point layer as a shapefile to use in zonal stats\n",
        "\n",
        "#https://docs.python.org/3/library/os.path.html#os.path.join\n",
        "plot_buffer_path = os.path.join(output_path, \n",
        "                                \"plot_buffer.shp\") \n",
        "#https://geopandas.org/en/stable/docs/reference/api/geopandas.GeoDataFrame.to_file.html\n",
        "sjer_plots_poly.to_file(plot_buffer_path) "
      ],
      "metadata": {
        "id": "TC0PKxrSxEHS"
      },
      "execution_count": null,
      "outputs": []
    },
    {
      "cell_type": "code",
      "source": [
        "# Extract zonal stats\n",
        "\n",
        "#https://pythonhosted.org/rasterstats/rasterstats.html#rasterstats.zonal_stats\n",
        "sjer_tree_heights = rs.zonal_stats(plot_buffer_path,\n",
        "                                   sjer_chm_data_no_zeros.values,\n",
        "                                   nodata=-999,\n",
        "                                   affine=sjer_chm_data_no_zeros.rio.transform(),\n",
        "                                   geojson_out=True,\n",
        "                                   copy_properties=True,\n",
        "                                   stats=\"count min mean max median\") \n",
        "\n",
        "# View object type\n",
        "\n",
        "#https://docs.python.org/3/library/functions.html#type\n",
        "type(sjer_tree_heights) "
      ],
      "metadata": {
        "id": "YHXNjbY6xEKm"
      },
      "execution_count": null,
      "outputs": []
    },
    {
      "cell_type": "code",
      "source": [
        "# Turn extracted data into a geopandas geodataframe\n",
        "\n",
        "#https://geopandas.org/en/stable/docs/reference/api/geopandas.GeoDataFrame.from_features.html\n",
        "sjer_lidar_height_df = gpd.GeoDataFrame.from_features(sjer_tree_heights) \n",
        "#https://geopandas.org/en/stable/docs/reference/api/geopandas.GeoDataFrame.html\n",
        "sjer_lidar_height_df.head() "
      ],
      "metadata": {
        "id": "-QGyeYnBxENf"
      },
      "execution_count": null,
      "outputs": []
    },
    {
      "cell_type": "code",
      "source": [
        "# Plot the geodataframe\n",
        "\n",
        "fig, ax = plt.subplots(figsize=(10, 5))\n",
        "\n",
        "#https://matplotlib.org/stable/api/_as_gen/matplotlib.pyplot.bar.html\n",
        "ax.bar(sjer_lidar_height_df['Plot_ID'],\n",
        "       sjer_lidar_height_df['max'],\n",
        "       color=\"purple\") \n",
        "\n",
        "ax.set(xlabel='Plot ID', \n",
        "       ylabel='Max Height',\n",
        "       title='Maximum LIDAR Derived Tree Heights')\n",
        "#https://matplotlib.org/stable/api/_as_gen/matplotlib.pyplot.setp.html\n",
        "plt.setp(ax.get_xticklabels(), rotation=45, horizontalalignment='right') \n",
        "plt.show()"
      ],
      "metadata": {
        "id": "zN36jhkCxEQW"
      },
      "execution_count": null,
      "outputs": []
    },
    {
      "cell_type": "code",
      "source": [
        "# Extract zonal stats but retain the individual pixel values\n",
        "sjer_tree_heights_ras = rs.zonal_stats(plot_buffer_path,\n",
        "                                       sjer_chm_data_no_zeros.values,\n",
        "                                       nodata=-999,\n",
        "                                       affine=sjer_chm_data_no_zeros.rio.transform(),\n",
        "                                       geojson_out=True,\n",
        "                                       raster_out=True,\n",
        "                                       copy_properties=True,\n",
        "                                       stats=\"count min mean max median\")\n",
        "# Convert to geodataframe\n",
        "sjer_lidar_height_df_ras = gpd.GeoDataFrame.from_features(\n",
        "    sjer_tree_heights_ras)\n",
        "\n",
        "# View subset of the dataframe\n",
        "sjer_lidar_height_df_ras[[\"Plot_ID\", \n",
        "                          \"count\", \n",
        "                          \"geometry\",\n",
        "                          \"mini_raster_affine\", \n",
        "                          \"mini_raster_array\"]].head()"
      ],
      "metadata": {
        "id": "GGtM_XyzxETY"
      },
      "execution_count": null,
      "outputs": []
    },
    {
      "cell_type": "code",
      "source": [
        "# Display dataframe without subsetting columns\n",
        "sjer_lidar_height_df_ras.head()"
      ],
      "metadata": {
        "id": "23Mb5F6ro5eT"
      },
      "execution_count": null,
      "outputs": []
    },
    {
      "cell_type": "markdown",
      "source": [
        "## Part 2: Compare Lidar to Measured Tree Height"
      ],
      "metadata": {
        "id": "bLW3Uh_c6f0Y"
      }
    },
    {
      "cell_type": "code",
      "source": [
        "# Get list of sites\n",
        "site_names = list(sjer_lidar_height_df_ras[\"Plot_ID\"])\n",
        "\n",
        "# Convert data in dataframe to a numpy array\n",
        "#https://numpy.org/doc/stable/reference/generated/numpy.stack.html\n",
        "arr = np.stack(sjer_lidar_height_df_ras['mini_raster_array']) \n",
        "\n",
        "# Plot using earthpy\n",
        "ep.hist(arr,\n",
        "        bins=[0, 5, 10, 15, 20, 25],\n",
        "        cols=3,\n",
        "        title=site_names, \n",
        "        figsize=(15, 30))\n",
        "\n",
        "plt.show()"
      ],
      "metadata": {
        "id": "bJiJLdjcxEXA"
      },
      "execution_count": null,
      "outputs": []
    },
    {
      "cell_type": "code",
      "source": [
        "# Import & view insitu (field measured) data\n",
        "path_insitu = os.path.join(\"spatial-vector-lidar\",\n",
        "                           \"california\",\n",
        "                           \"neon-sjer-site\",\n",
        "                           \"2013\",\n",
        "                           \"insitu\",\n",
        "                           \"veg_structure\",\n",
        "                           \"D17_2013_SJER_vegStr.csv\")\n",
        "\n",
        "#https://pandas.pydata.org/docs/reference/api/pandas.read_csv.html\n",
        "sjer_insitu_all = pd.read_csv(path_insitu) \n",
        "\n",
        "# View columns in data\n",
        "sjer_insitu_all.columns"
      ],
      "metadata": {
        "id": "FmzByejNMldg"
      },
      "execution_count": null,
      "outputs": []
    },
    {
      "cell_type": "code",
      "source": [
        "sjer_insitu = sjer_insitu_all[[\"siteid\",\n",
        "                               \"sitename\",\n",
        "                               \"plotid\",\n",
        "                               \"stemheight\",\n",
        "                               \"scientificname\"]]\n",
        "\n",
        "sjer_insitu.head()"
      ],
      "metadata": {
        "id": "8FbvIavAym1m"
      },
      "execution_count": null,
      "outputs": []
    },
    {
      "cell_type": "code",
      "source": [
        "#https://pandas.pydata.org/docs/reference/api/pandas.DataFrame.groupby.html\n",
        "insitu_stem_ht = sjer_insitu.groupby('plotid').agg(\n",
        "    ['mean', 'max'])['stemheight'] \n",
        "\n",
        "insitu_stem_ht.head()"
      ],
      "metadata": {
        "id": "aMKN3wlBym4W"
      },
      "execution_count": null,
      "outputs": []
    },
    {
      "cell_type": "code",
      "source": [
        "# Rename each column\n",
        "insitu_stem_ht.head()"
      ],
      "metadata": {
        "id": "XnqoKiKvym7b"
      },
      "execution_count": null,
      "outputs": []
    },
    {
      "cell_type": "code",
      "source": [
        "#https://pandas.pydata.org/docs/reference/api/pandas.DataFrame.rename.html\n",
        "insitu_stem_ht.rename(columns={\"mean\": \"insitu_mean\",\n",
        "                               \"max\": \"insitu_max\"},\n",
        "                      inplace=True)  \n",
        "\n",
        "insitu_stem_ht.head()"
      ],
      "metadata": {
        "id": "28RbQXCvym-f"
      },
      "execution_count": null,
      "outputs": []
    },
    {
      "cell_type": "code",
      "source": [
        "# Reset the index (plotid)\n",
        "#https://pandas.pydata.org/docs/reference/api/pandas.DataFrame.reset_index.html\n",
        "insitu_stem_ht = insitu_stem_ht.reset_index() \n",
        "insitu_stem_ht.head()"
      ],
      "metadata": {
        "id": "4Sc5jjz9ynBa"
      },
      "execution_count": null,
      "outputs": []
    },
    {
      "cell_type": "code",
      "source": [
        "# Rename columns so that we know which columns represent lidar values\n",
        "sjer_lidar_height_df = sjer_lidar_height_df.rename(\n",
        "    columns={'max': 'lidar_max',\n",
        "             'mean': 'lidar_mean',\n",
        "             'min': 'lidar_min'})\n",
        "\n",
        "# Join lidar and human measured tree height data\n",
        "#https://pandas.pydata.org/docs/reference/api/pandas.DataFrame.merge.html\n",
        "sjer_final_height = sjer_lidar_height_df.merge(insitu_stem_ht,\n",
        "                                               left_on='Plot_ID',\n",
        "                                               right_on='plotid') \n",
        "sjer_final_height.head()"
      ],
      "metadata": {
        "id": "Gu1qddVYynEN"
      },
      "execution_count": null,
      "outputs": []
    },
    {
      "cell_type": "code",
      "source": [
        "# Convert to a dataframe so you can use standard pandas plotting\n",
        "sjer_final_height_df = pd.DataFrame(sjer_final_height)\n",
        "\n",
        "fig, ax = plt.subplots(figsize=(10, 10))\n",
        "\n",
        "sjer_final_height_df.plot('lidar_max',\n",
        "                          'insitu_max',\n",
        "                          kind='scatter',\n",
        "                          fontsize=14, s=60,\n",
        "                          color=\"purple\",\n",
        "                          ax=ax)\n",
        "\n",
        "ax.set(xlabel=\"Lidar derived max tree height\",\n",
        "       ylabel=\"Measured tree height (m)\",\n",
        "       title=\"Lidar vs Measured Max Tree Height \\n NEON SJER Field Site\")\n",
        "\n",
        "plt.show()"
      ],
      "metadata": {
        "id": "t_hE8WodynHA"
      },
      "execution_count": null,
      "outputs": []
    },
    {
      "cell_type": "code",
      "source": [
        "fig, ax = plt.subplots(figsize=(10, 10))\n",
        "\n",
        "sjer_final_height_df.plot('lidar_max',\n",
        "                          'insitu_max',\n",
        "                          kind='scatter',\n",
        "                          fontsize=14,\n",
        "                          color=\"purple\",\n",
        "                          s=60, ax=ax)\n",
        "\n",
        "ax.set(xlabel=\"Lidar Derived Max Tree Height (m)\",\n",
        "       ylabel=\"Measured Tree Height (m)\",\n",
        "       title=\"Lidar vs. Measured Max Tree Height \\n NEON SJER Field Site\")\n",
        "\n",
        "# Add 1:1 line\n",
        "ax.plot((0, 1), (0, 1),\n",
        "        transform=ax.transAxes, ls='--', c='k')\n",
        "\n",
        "# Adjust x and y axis limits\n",
        "ax.set(xlim=[0, 30], ylim=[0, 30])\n",
        "plt.show()"
      ],
      "metadata": {
        "id": "NzKX-daWy-hm"
      },
      "execution_count": null,
      "outputs": []
    },
    {
      "cell_type": "code",
      "source": [
        "# Export the final data frame as a csv file\n",
        "outpath = os.path.join(\"spatial-vector-lidar\",\n",
        "                       \"outputs\",\n",
        "                       \"sjer-lidar-insitu-merge.csv\")\n",
        "\n",
        "sjer_final_height_df.to_csv(outpath)"
      ],
      "metadata": {
        "id": "9NQdvmG0y-kU"
      },
      "execution_count": null,
      "outputs": []
    },
    {
      "cell_type": "code",
      "source": [
        "# Convert the geometry column to contain points\n",
        "#https://geopandas.org/en/stable/docs/reference/api/geopandas.GeoSeries.centroid.html\n",
        "sjer_final_height['geometry'] = sjer_final_height.centroid \n",
        "sjer_final_height.head()\n",
        "\n",
        "sjer_final_height['insitu_max']"
      ],
      "metadata": {
        "id": "hiupOv66y-nJ"
      },
      "execution_count": null,
      "outputs": []
    },
    {
      "cell_type": "code",
      "source": [
        "fig, ax = plt.subplots(figsize=(10, 10))\n",
        "ep.plot_bands(sjer_chm_data,\n",
        "              cmap='Greys',\n",
        "              extent=plotting_extent(sjer_chm_data,\n",
        "                                     sjer_chm_data.rio.transform()),\n",
        "              ax=ax,\n",
        "              scale=False)\n",
        "\n",
        "# Plot centroids of each geometry as points so that you can control their size\n",
        "sjer_final_height.centroid.plot(ax=ax,\n",
        "                                marker='o',\n",
        "                                markersize=sjer_final_height['insitu_max'] * 80,\n",
        "                                c='purple')\n",
        "ax.set_axis_off()\n",
        "plt.show()"
      ],
      "metadata": {
        "id": "xZHV5V6vy-qB"
      },
      "execution_count": null,
      "outputs": []
    },
    {
      "cell_type": "code",
      "source": [
        "# Calculate difference\n",
        "sjer_final_height[\"lidar_measured\"] = sjer_final_height[\"lidar_max\"] - \\\n",
        "    sjer_final_height[\"insitu_max\"]\n",
        "\n",
        "# Create a bar plot\n",
        "fig, ax = plt.subplots(figsize=(12, 7))\n",
        "ax.bar(sjer_final_height['plotid'],\n",
        "       sjer_final_height['lidar_measured'],\n",
        "       color=\"purple\")\n",
        "\n",
        "ax.set(xlabel='Plot ID', ylabel='(Lidar - Measured) Height Difference (m)',\n",
        "       title='Difference Between lidar and Measured Tree Height')\n",
        "\n",
        "plt.setp(ax.get_xticklabels(),\n",
        "         rotation=45, horizontalalignment='right')\n",
        "plt.show()"
      ],
      "metadata": {
        "id": "yppVKm7ky-sV"
      },
      "execution_count": null,
      "outputs": []
    },
    {
      "cell_type": "markdown",
      "source": [
        "## Part 3: Regression to Compare Variables"
      ],
      "metadata": {
        "id": "bHyT45VZMmjS"
      }
    },
    {
      "cell_type": "code",
      "source": [
        "#https://docs.python.org/3/library/math.html\n",
        "from math import * \n",
        "#https://docs.scipy.org/doc/scipy/reference/stats.html\n",
        "from scipy import stats \n"
      ],
      "metadata": {
        "id": "5rL7Be8bMoDI"
      },
      "execution_count": null,
      "outputs": []
    },
    {
      "cell_type": "code",
      "source": [
        "x = sjer_final_height_df.lidar_max\n",
        "y = sjer_final_height_df.insitu_max\n",
        "\n",
        "#https://docs.scipy.org/doc/scipy/reference/generated/scipy.stats.linregress.html#scipy.stats.linregress\n",
        "slope, intercept, r_value, p_value, std_err = stats.linregress(x, y) \n",
        "\n",
        "print(\"slope:\", slope,\n",
        "      \"\\nintercept:\", intercept,\n",
        "      \"\\nr squared:\", r_value**2)"
      ],
      "metadata": {
        "id": "b5lUa_iwzXsv"
      },
      "execution_count": null,
      "outputs": []
    },
    {
      "cell_type": "code",
      "source": [
        "# Create scatter plot\n",
        "fig, ax = plt.subplots(figsize=(10, 10))\n",
        "\n",
        "m = slope.astype(float)\n",
        "\n",
        "sjer_final_height_df.plot('lidar_max',\n",
        "                          'insitu_max',\n",
        "                          kind='scatter',\n",
        "                          color=\"purple\",\n",
        "                          s=60,\n",
        "                          ax=ax,\n",
        "                          label=\"Data\")\n",
        "\n",
        "# Add a diagonal line\n",
        "ax.set(xlim=[0, 30], ylim=[0, 30])\n",
        "ax.plot((0, 1), (0, 1), 'y-', transform=ax.transAxes, label=\"1:1 line\")\n",
        "ax.plot(x, m*x + intercept, 'grey', label='regression fitted line')\n",
        "\n",
        "ax.set(xlabel=\"Lidar derived max tree height (m)\",\n",
        "       ylabel=\"Measured tree height (m)\",\n",
        "       title=\"Lidar vs Measured Tree Height - SJER\")\n",
        "\n",
        "plt.legend()\n",
        "plt.show()"
      ],
      "metadata": {
        "id": "zlD5GPhxzXva"
      },
      "execution_count": null,
      "outputs": []
    },
    {
      "cell_type": "code",
      "source": [
        "fig, ax = plt.subplots(figsize=(10, 10))\n",
        "\n",
        "#https://seaborn.pydata.org/generated/seaborn.regplot.html\n",
        "ax = sns.regplot(x='lidar_max', y='insitu_max', data=sjer_final_height_df,\n",
        "                 color=\"purple\") \n",
        "\n",
        "# Add a diagonal line\n",
        "ax.set(xlim=[5, 30], ylim=[5, 30])\n",
        "ax.plot((0, 1), (0, 1), transform=ax.transAxes, ls='--', c='k')\n",
        "\n",
        "ax.set(xlabel=\"Lidar derived max tree height (m)\",\n",
        "       ylabel=\"Measured tree height (m)\",\n",
        "       title=\"Lidar vs Measured Tree Height - SJER\")\n",
        "\n",
        "plt.show()"
      ],
      "metadata": {
        "id": "eTvveMkMzXyh"
      },
      "execution_count": null,
      "outputs": []
    },
    {
      "cell_type": "code",
      "source": [
        "# Calculate difference and add the plot id to each xaxis label\n",
        "sjer_final_height[\"lidar_measured\"] = sjer_final_height[\"lidar_max\"] - \\\n",
        "    sjer_final_height[\"insitu_max\"]\n",
        "\n",
        "fig, ax = plt.subplots(figsize=(12, 7))\n",
        "\n",
        "ax.bar(sjer_final_height['plotid'],\n",
        "       sjer_final_height['lidar_measured'],\n",
        "       color=\"purple\")\n",
        "\n",
        "ax.set(xlabel='Plot ID',\n",
        "       ylabel='(Lidar - Measured) Height Difference (m)',\n",
        "       title='Difference Between lidar and Measured Tree Height')\n",
        "\n",
        "plt.setp(ax.get_xticklabels(), rotation=45, horizontalalignment='right')\n",
        "plt.show()"
      ],
      "metadata": {
        "id": "zKAG0OeTzX1b"
      },
      "execution_count": null,
      "outputs": []
    },
    {
      "cell_type": "markdown",
      "source": [
        "## Part 4: Optional extra credit\n",
        "1. Which site had the biggest discrepancy between insitu and lidar? Please specify the Plot ID. (1 point)\n",
        "\n",
        "Tips:\n",
        "* Use `sjer_final_height` GeoDataFrame\n",
        "* Create a variable called `lidar_max` that valculates the maximum value in `lidar_measured` column\n",
        "    * `sjer_final_height[\"lidar_measured\"].max()`\n",
        "* Subset `sjer_final_height` on this condition: `sjer_final_height[\"lidar_measured\"] == lidar_max`\n",
        "  * You can subset an GeoDataFrame by condition like this: `df[condition]`\n"
      ],
      "metadata": {
        "id": "XB1_NiLl2EZ5"
      }
    },
    {
      "cell_type": "code",
      "source": [],
      "metadata": {
        "id": "CScqgvMj7CW3"
      },
      "execution_count": null,
      "outputs": []
    },
    {
      "cell_type": "markdown",
      "source": [
        "2. What is the mean stemheight for *Arctostaphylos viscida* across all plots? (1 point)\n",
        "\n",
        "Tips:\n",
        "* Use `sjer_insitu` DataFrame\n",
        "* Group by values in the `scientificname` column\n",
        "  * You can groupby a column like this: `df.groupby(\"column\")`\n",
        "* Calculate the mean of each group\n",
        "  * You can calculate the mean of a groupby argument like this: `df.groupby(\"column\").mean(numeric_only=True)` "
      ],
      "metadata": {
        "id": "3mhrdpyA_gWX"
      }
    },
    {
      "cell_type": "code",
      "source": [],
      "metadata": {
        "id": "QGKhu4RYgSD5"
      },
      "execution_count": null,
      "outputs": []
    },
    {
      "cell_type": "markdown",
      "source": [
        "3. Which plot ID only had a single species present?  (1 point)\n",
        "\n",
        "Tips:\n",
        "* Use `sjer_insitu` DataFrame\n",
        "* Group by `plotid`\n",
        "  * You can group a DataFrame by a column's values like this: `df.groupby(\"column\")`\n",
        "* Calculate the count of `scientificname` column on each group\n",
        "  * You can calculate the count of a column's values in a group like this: `df.groupby(\"column\")[\"another_column\"].count()`"
      ],
      "metadata": {
        "id": "HXa8fJh8_rr2"
      }
    },
    {
      "cell_type": "code",
      "source": [],
      "metadata": {
        "id": "msZV7EzYhxEx"
      },
      "execution_count": null,
      "outputs": []
    },
    {
      "cell_type": "markdown",
      "source": [
        "## Deliverable\n",
        "1. Click File > Download > Download .ipynb\n",
        "2. Navigate to the GitHub repository you created during Lab 0\n",
        "3. Click Add file > Upload Files\n",
        "4. Click choose your files and select the Lab 4 .ipynb file you downloaded\n",
        "5. Click Commit changes\n",
        "6. Navigate to the issue you opened in https://github.com/alex-pakalniskis/gisc606-spring2023 during lab 0 and leave a comment with a link to the Lab 4 .ipynb file you uploaded to your repo"
      ],
      "metadata": {
        "id": "hzgwovy7MqwK"
      }
    }
  ]
}