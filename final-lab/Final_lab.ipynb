{
  "nbformat": 4,
  "nbformat_minor": 0,
  "metadata": {
    "colab": {
      "provenance": [],
      "authorship_tag": "ABX9TyP609aLT2oRWa68skBP1XV/",
      "include_colab_link": true
    },
    "kernelspec": {
      "name": "python3",
      "display_name": "Python 3"
    },
    "language_info": {
      "name": "python"
    }
  },
  "cells": [
    {
      "cell_type": "markdown",
      "metadata": {
        "id": "view-in-github",
        "colab_type": "text"
      },
      "source": [
        "<a href=\"https://colab.research.google.com/github/alex-pakalniskis/gisc606-spring2023/blob/main/final-lab/Final_lab.ipynb\" target=\"_parent\"><img src=\"https://colab.research.google.com/assets/colab-badge.svg\" alt=\"Open In Colab\"/></a>"
      ]
    },
    {
      "cell_type": "markdown",
      "source": [
        "# Final lab\n",
        "\n",
        "*20 points + 5 extra credit points*\n",
        "\n",
        "**Due before May 6, 2023 at 1pm Pacific**\n",
        "\n",
        "This is an individual assignment so please do not work together on your submissions. However, this is an open notes and resources assignment, so please use your previous labs and Google/GitHub/Stack Overflow to help you complete the lab. \n",
        "\n",
        "Your instructor will be available between 9am and 1pm on May 6 to help answer any of your questions related to the final lab.\n",
        "\n",
        "## 1. Please use `pip` to install `rioxarray`, `geopandas`, `earthpy`, and `folium`\n",
        "\n",
        "``` bash\n",
        "!pip install library1 library2\n",
        "```\n",
        "> Note: Don't forget to include an `!` before `pip` when running it in Google Colaboratory \n",
        "\n",
        "Worth *2.5 points*"
      ],
      "metadata": {
        "id": "vIYslseSfrcJ"
      }
    },
    {
      "cell_type": "code",
      "execution_count": null,
      "metadata": {
        "id": "RckrSvO7foSo"
      },
      "outputs": [],
      "source": []
    },
    {
      "cell_type": "markdown",
      "source": [
        "## 2. Import the necessary packages:\n",
        "1.  os: `import os`\n",
        "1. glob: `from glob import glob`\n",
        "1. pyplot: `import matplotlib.pyplot as plt`\n",
        "1. numpy: `import numpy as np`\n",
        "1. geopandas: `import geopandas as gpd`\n",
        "1. xarray: `import xarray as xr`\n",
        "1. rioxarray: `import rioxarray as rxr`\n",
        "1. earthpy: `import earthpy as et`\n",
        "1. earthpy.spatial: `import earthpy.spatial as es`\n",
        "1. earthpy.plot: `import earthpy.plot as ep`\n",
        "\n",
        "Worth *2.5 points*"
      ],
      "metadata": {
        "id": "Cicym_pqgvH1"
      }
    },
    {
      "cell_type": "code",
      "source": [],
      "metadata": {
        "id": "rNErKmYKgv2a"
      },
      "execution_count": null,
      "outputs": []
    },
    {
      "cell_type": "markdown",
      "source": [
        "## 3. Get data and set the working directory\n",
        "1. Create a variable called `data` equal to `et.data.get_data()` and pass `\"cold-springs-fire\"` as the input parameter to `get_data`, i.e. `et.data.get_data(input_parameter_goes_here)`\n",
        "1. Change the current working directory to `os.path.join(et.io.HOME, \"earth-analytics\", \"data\"))`, i.e. `os.chdir(replace_with_os_path_join_stuff)`\n",
        "\n",
        "Worth *2.5 points*"
      ],
      "metadata": {
        "id": "c9fw3MqQgzB1"
      }
    },
    {
      "cell_type": "code",
      "source": [],
      "metadata": {
        "id": "lk9RulmQg13K"
      },
      "execution_count": null,
      "outputs": []
    },
    {
      "cell_type": "markdown",
      "source": [
        "## 4. Get a list of pre-cropped data then sort it\n",
        "1. Create a variable called `landsat_post_fire_path` and set it equal to `os.path.join(\"cold-springs-fire\", \"landsat_collect\", \"LC080340322016072301T1-SC20180214145802\", \"crop\")`\n",
        "1. Create a variable called `post_fire_paths` (list of the TIF file names) and set it equal to `glob(os.path.join(landsat_post_fire_path, \"*band*.tif\"))`\n",
        "1. Sort the `post_fire_paths` variable with `.sort()`, i.e. `post_fire_paths.sort()`\n",
        "1. Display the sorted variable contents, i.e type `post_fire_paths` and run the code cell\n",
        "\n",
        "Worth *2.5 points*"
      ],
      "metadata": {
        "id": "OXDbcQ2lg2Z0"
      }
    },
    {
      "cell_type": "code",
      "source": [],
      "metadata": {
        "id": "0whf97rug4I6"
      },
      "execution_count": null,
      "outputs": []
    },
    {
      "cell_type": "markdown",
      "source": [
        "## 5. Open the TIF data as a rioxarray object"
      ],
      "metadata": {
        "id": "-RzG8YnFg43x"
      }
    },
    {
      "cell_type": "code",
      "source": [
        "def open_clean_bands(band_path):\n",
        "    \"\"\"A function that opens a Landsat band as an (rio)xarray object\n",
        "\n",
        "    Parameters\n",
        "    ----------\n",
        "    band_path : list\n",
        "        A list of paths to the tif files that you wish to combine.\n",
        "        \n",
        "    Returns\n",
        "    -------\n",
        "    An single xarray object with the Landsat band data.\n",
        "\n",
        "    \"\"\"\n",
        "     \n",
        "    return rxr.open_rasterio(band_path, masked=True).squeeze()\n",
        "\n",
        "\n",
        "# Open all bands in a loop\n",
        "all_bands = []\n",
        "for i, aband in enumerate(post_fire_paths):\n",
        "    all_bands.append(open_clean_bands(aband))\n",
        "    # Assign a band number to the new xarray object\n",
        "    all_bands[i][\"band\"]=i+1\n",
        "\n",
        "# Turn list of bands into a single xarray object    \n",
        "landsat_post_fire_xr = xr.concat(all_bands, dim=\"band\") "
      ],
      "metadata": {
        "id": "ypkyXTIMg7vu"
      },
      "execution_count": null,
      "outputs": []
    },
    {
      "cell_type": "markdown",
      "source": [
        "## 6. Plot the `landsat_post_fire_xr` variable \n",
        "1. Use `plot.imshow()` method, i.e. `rioxarray_variable.plot.imshow()`\n",
        "1. Set some styling parameters for the visualization, i.e. `rioxarray_variable.plot.imshow(col=\"band\", col_wrap=3, cmap=\"Greys_r\")`\n",
        "1. Invoke `pyplot` to display the visualization, i.e. `plt.show()`\n",
        "\n",
        "Worth *2.5 points*"
      ],
      "metadata": {
        "id": "9n_XiUXvg8KZ"
      }
    },
    {
      "cell_type": "code",
      "source": [],
      "metadata": {
        "id": "e3cf1wH5g_8z"
      },
      "execution_count": null,
      "outputs": []
    },
    {
      "cell_type": "markdown",
      "source": [
        "## 7. Calculate the [Normalized Difference Moisture Index (NDMI)](https://www.usgs.gov/landsat-missions/normalized-difference-moisture-index)\n",
        "In Landsat 8-9, NDMI = (Band 5 – Band 6) / (Band 5 + Band 6).\n",
        "\n",
        "1. Create a variable called `ndmi` and set it equal to `es.normalized_diff(landsat_post_fire_xr[5], landsat_post_fire_xr[4])`\n",
        "\n",
        "Worth *2.5 points*"
      ],
      "metadata": {
        "id": "V2WZWC4BhAVI"
      }
    },
    {
      "cell_type": "code",
      "source": [],
      "metadata": {
        "id": "gp8MzqwyhGXB"
      },
      "execution_count": null,
      "outputs": []
    },
    {
      "cell_type": "markdown",
      "source": [
        "## 8. Plot the NDMI raster\n",
        "1. Create a variable called `titles` and set it equal to `[\"Landsat 8 - Normalized Difference Moisture Index (NDMI)\"]`\n",
        "1. Use `ep.plot_bands()` to plot the `ndmi` variable like this `ep.plot_bands(ndmi, cmap=\"RdYlGn\", cols=1, title=titles, vmin=-1, vmax=1)`\n",
        "1. Invoke `plt.show()` to display the visualization\n",
        "\n",
        "Worth *2.5 points*"
      ],
      "metadata": {
        "id": "qRryUwg8hI1-"
      }
    },
    {
      "cell_type": "code",
      "source": [],
      "metadata": {
        "id": "Hvue0xT1hJL9"
      },
      "execution_count": null,
      "outputs": []
    },
    {
      "cell_type": "markdown",
      "source": [
        "## 9. Optional extra credit\n",
        "\n",
        "1. Share your LinkedIn url\n",
        "1. Share your Twitter profile link\n",
        "1. What's your favorite or least favorite spectral index and why?\n",
        "1. What's your favorite or least favorite Python library used this semester and why?\n",
        "1. Share a musical recommendation for a band/artist, album, or song you really enjoy\n",
        "\n",
        "\n",
        "Worth *5 points*"
      ],
      "metadata": {
        "id": "zzHC1KEmjhN_"
      }
    },
    {
      "cell_type": "markdown",
      "source": [
        "## 10. Demonstrate your GitHub skills\n",
        "1. Download your final lab Jupyter Notebook\n",
        "1. Create a new GitHub repository in your personal account for the final lab submission\n",
        "    1. Please make the repository public, include a README.md, and select an MIT License\n",
        "1. Add/upload your final lab Jupyter Notebook to your newly created repository\n",
        "    1. Copy the link/URL of your newly created repository as you'll need it soon\n",
        "1. Log into Canvas and navigate to the GISC 606 course\n",
        "1. Open the final lab assignment and input the link to your final lab repository as your submission\n",
        "\n",
        "Worth *2.5 points*\n"
      ],
      "metadata": {
        "id": "n8eYVMWdhMOo"
      }
    }
  ]
}