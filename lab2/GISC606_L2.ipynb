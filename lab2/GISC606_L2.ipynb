{
  "nbformat": 4,
  "nbformat_minor": 0,
  "metadata": {
    "colab": {
      "provenance": [],
      "authorship_tag": "ABX9TyMC3p8mYG2D8JJQeGstiOOS",
      "include_colab_link": true
    },
    "kernelspec": {
      "name": "python3",
      "display_name": "Python 3"
    },
    "language_info": {
      "name": "python"
    }
  },
  "cells": [
    {
      "cell_type": "markdown",
      "metadata": {
        "id": "view-in-github",
        "colab_type": "text"
      },
      "source": [
        "<a href=\"https://colab.research.google.com/github/alex-pakalniskis/gisc606-spring2023/blob/main/lab2/GISC606_L2.ipynb\" target=\"_parent\"><img src=\"https://colab.research.google.com/assets/colab-badge.svg\" alt=\"Open In Colab\"/></a>"
      ]
    },
    {
      "cell_type": "markdown",
      "source": [
        "# Lab 2: Plot Combinations of Raster Bands & Calculate and classify Normalized Difference Results with EarthPy\n",
        "\n",
        "Original tutorial content ([1](https://earthpy.readthedocs.io/en/latest/gallery_vignettes/plot_calculate_classify_ndvi.html), [2](https://earthpy.readthedocs.io/en/latest/gallery_vignettes/plot_rgb.html)) was created by the EarthPy team. This lab expands/combines a bit of their work and includes some additional readings.\n",
        "\n",
        "## Relevant course objectives\n",
        "* Comprehend theory and the application of geospatial technologies. \n",
        "* Develop technical literacy through hands-on training in geospatial technologies and their application.\n",
        "* Examine a spatial question and analyze geospatial data using GIS tools and technologies.\n",
        "* Perform analyses using remote sensing and image analysis techniques.\n",
        "* Assess both the value and limitations of remotely sensed data for a variety of applications.\n",
        "* Develop and apply oral and written communication skills.\n",
        "\n",
        "\n",
        "## Lesson goals\n",
        "* Calculate and classify a spectral index derived from satellite imagery data ([NDVI](https://en.wikipedia.org/wiki/Normalized_difference_vegetation_index), [Landsat 8](https://en.wikipedia.org/wiki/Landsat_8))\n",
        "* Use programming to automate an applied remote sensing task ([EarthPy](https://earthpy.readthedocs.io/en/latest/index.html))\n",
        "\n",
        "## Before you get started\n",
        "Read about this lab's data source and spectral index formula\n",
        "### Data source\n",
        "> Landsat 8 (formerly the Landsat Data Continuity Mission, or LDCM) was launched on an Atlas-V rocket from Vandenberg Air Force Base, California on February 11, 2013. The satellite carries the Operational Land Imager (OLI) and the Thermal Infrared Sensor (TIRS) instruments. \n",
        "> \n",
        "> The OLI measures in the visible, near infrared, and shortwave infrared portions (VNIR, NIR, and SWIR) of the spectrum. The TIRS measures land surface temperature in two thermal bands with a new technology that applies quantum physics to detect heat. Landsat 8 images have 15-meter panchromatic and 30-meter multi-spectral spatial resolutions along a 185 km (115 mi) swath.\n",
        "> \n",
        "> [-USGS Docs](https://www.usgs.gov/landsat-missions/landsat-8)\n",
        "\n",
        "Sensor bands of interest\n",
        "* Band 2: Blue\n",
        "  * $0.450-0.51μm$ wavelengths\n",
        "  * 30m x 30m pixel size\n",
        "* Band 3: Green\n",
        "  * $0.53-0.59μm$ wavelengths\n",
        "  * 30m x 30m pixel size\n",
        "* Band 4: Red\n",
        "  * $0.64-0.67μm$ wavelengths\n",
        "  * 30m x 30m pixel size\n",
        "* Band 5: Near-Infrared (NIR)\n",
        "  * $0.85-0.88μm$ wavelengths\n",
        "  * 30m x 30m pixel size\n",
        "\n",
        "### Index formula\n",
        "$NDVI = \\frac{NIR - R}{NIR + R}$\n",
        "\n",
        "* For Landsat 8-9, this translates to $\\frac{Band 5 – Band 4}{Band 5 + Band 4}$\n",
        "\n"
      ],
      "metadata": {
        "id": "-GSd-UVBzC7Y"
      }
    },
    {
      "cell_type": "markdown",
      "source": [
        "## Part 1"
      ],
      "metadata": {
        "id": "mKLnwOkJGSvy"
      }
    },
    {
      "cell_type": "code",
      "source": [
        "# Install EarthPy\n",
        "# https://pip.pypa.io/en/stable/\n",
        "!pip install earthpy"
      ],
      "metadata": {
        "id": "Xb_5lzqezrC5"
      },
      "execution_count": null,
      "outputs": []
    },
    {
      "cell_type": "code",
      "execution_count": null,
      "metadata": {
        "id": "UoazNNluy_f8"
      },
      "outputs": [],
      "source": [
        "# Import the needed packages, I've linked the docs in case you'd like to read more\n",
        "import os #https://docs.python.org/3/library/os.html\n",
        "from glob import glob #https://docs.python.org/3/library/glob.html\n",
        "import numpy as np #https://numpy.org/\n",
        "import matplotlib.pyplot as plt #https://matplotlib.org/stable/api/pyplot_summary.html#module-matplotlib.pyplot\n",
        "from matplotlib.colors import ListedColormap #https://matplotlib.org/stable/api/_as_gen/matplotlib.colors.ListedColormap.html\n",
        "import earthpy as et #https://earthpy.readthedocs.io/en/latest/api/earthpy-data.html\n",
        "import earthpy.spatial as es #https://earthpy.readthedocs.io/en/latest/api/earthpy.spatial.html\n",
        "import earthpy.plot as ep #https://earthpy.readthedocs.io/en/latest/api/earthpy.plot.html"
      ]
    },
    {
      "cell_type": "code",
      "source": [
        "# List the available data sets\n",
        "et.data"
      ],
      "metadata": {
        "id": "L1pjckwHx3GF"
      },
      "execution_count": null,
      "outputs": []
    },
    {
      "cell_type": "code",
      "source": [
        "# Get Landasat data\n",
        "# https://earthpy.readthedocs.io/en/latest/api/earthpy.io.html#earthpy.io.Data.get_data\n",
        "data = et.data.get_data(\"vignette-landsat\") "
      ],
      "metadata": {
        "id": "bDNIXbXiz9k4"
      },
      "execution_count": null,
      "outputs": []
    },
    {
      "cell_type": "code",
      "source": [
        "# List out contents of downloaded Landsat data directory\n",
        "# https://man7.org/linux/man-pages/man1/ls.1.html\n",
        "!ls /root/earth-analytics/data/vignette-landsat/"
      ],
      "metadata": {
        "id": "eJxqp3AFz_mF"
      },
      "execution_count": null,
      "outputs": []
    },
    {
      "cell_type": "code",
      "source": [
        "# Set your home working directory\n",
        "os.chdir(os.path.join(et.io.HOME, \"earth-analytics\")) #https://docs.python.org/3/library/os.html#os.chdir\n",
        "\n",
        "# Stack the Landsat 8 bands\n",
        "# This creates a numpy array with each entry representing a file path that corresponds to a single band of the Landsat 8 data\n",
        "landsat_path = glob(\"data/vignette-landsat/LC08_L1TP_034032_20160621_20170221_01_T1_sr_band*_crop.tif\")\n",
        "\n",
        "# Sort the array\n",
        "landsat_path.sort() #https://numpy.org/doc/stable/reference/generated/numpy.sort.html\n",
        "\n",
        "# Convert the array of raster file paths into a stacked numpy array, set no data value to -9999\n",
        "arr_st, meta = es.stack(landsat_path, nodata=-9999) #https://earthpy.readthedocs.io/en/latest/api/earthpy.spatial.html#earthpy.spatial.stack"
      ],
      "metadata": {
        "id": "kGHeU_Hx0CcC"
      },
      "execution_count": null,
      "outputs": []
    },
    {
      "cell_type": "code",
      "source": [
        "# Plot RBG image\n",
        "fig, ax = plt.subplots(figsize=(12, 12)) #https://matplotlib.org/stable/api/_as_gen/matplotlib.pyplot.subplots.html\n",
        "ep.plot_rgb(arr_st, rgb=(3, 2, 1), ax=ax, title=\"Landsat 8 RGB Image\") #https://earthpy.readthedocs.io/en/latest/api/earthpy.plot.html#earthpy.plot.plot_rgb\n",
        "plt.show() #https://matplotlib.org/stable/api/_as_gen/matplotlib.pyplot.show.html"
      ],
      "metadata": {
        "id": "sHgA-Hzc1eA6"
      },
      "execution_count": null,
      "outputs": []
    },
    {
      "cell_type": "code",
      "source": [
        "# Plot color infrared (CIR) image\n",
        "# Create figure with one plot\n",
        "fig, ax = plt.subplots(figsize=(12, 12)) #https://matplotlib.org/stable/api/_as_gen/matplotlib.pyplot.subplots.html\n",
        "\n",
        "# Plot NIR, red, and green bands, respectively, with stretch\n",
        "ep.plot_rgb(\n",
        "    arr_st,\n",
        "    rgb=(4, 3, 2),\n",
        "    ax=ax,\n",
        "    title=\"Landsat 8 CIR Image\",\n",
        "    ) #https://earthpy.readthedocs.io/en/latest/api/earthpy.plot.html#earthpy.plot.plot_rgb\n",
        "\n",
        "plt.show() #https://matplotlib.org/stable/api/_as_gen/matplotlib.pyplot.show.html"
      ],
      "metadata": {
        "id": "lVU_qVN01jYz"
      },
      "execution_count": null,
      "outputs": []
    },
    {
      "cell_type": "code",
      "source": [
        "# Calculate NDVI\n",
        "# Landsat 8 red band is band 4 at [3]\n",
        "# Landsat 8 near-infrared band is band 5 at [4]\n",
        "ndvi = es.normalized_diff(arr_st[4], arr_st[3]) #https://earthpy.readthedocs.io/en/latest/api/earthpy.spatial.html#earthpy.spatial.normalized_diff"
      ],
      "metadata": {
        "id": "sa3_v8cv1IcT"
      },
      "execution_count": null,
      "outputs": []
    },
    {
      "cell_type": "code",
      "source": [
        "# Plot NDVI\n",
        "\n",
        "title = [\"Landsat 8 - Normalized Difference Vegetation Index (NDVI)\"]\n",
        "\n",
        "# Turn off bytescale scaling due to float values for NDVI\n",
        "ep.plot_bands(ndvi, cmap=\"RdYlGn\", cols=1, title=title, vmin=-1, vmax=1) #https://earthpy.readthedocs.io/en/latest/api/earthpy.plot.html#earthpy.plot.plot_bands\n",
        "\n"
      ],
      "metadata": {
        "id": "3nkQ00EJ1MKT"
      },
      "execution_count": null,
      "outputs": []
    },
    {
      "cell_type": "code",
      "source": [
        "# Create NDVI classes\n",
        "# Values under 0 will be classified together as no vegetation. \n",
        "# Additional classes will be created for bare area and low, moderate, and high vegetation areas.\n",
        "ndvi_class_bins = [-np.inf, 0, 0.1, 0.25, 0.4, np.inf]\n",
        "ndvi_landsat_class = np.digitize(ndvi, ndvi_class_bins) #https://numpy.org/doc/stable/reference/generated/numpy.digitize.html\n",
        "\n",
        "# Apply the nodata mask to the newly classified NDVI data\n",
        "ndvi_landsat_class = np.ma.masked_where(\n",
        "    np.ma.getmask(ndvi), ndvi_landsat_class\n",
        "    ) #https://numpy.org/doc/stable/reference/generated/numpy.ma.masked_where.html\n",
        "\n",
        "np.unique(ndvi_landsat_class) #https://numpy.org/doc/stable/reference/generated/numpy.unique.html"
      ],
      "metadata": {
        "id": "eHOAbcCJ1OqS"
      },
      "execution_count": null,
      "outputs": []
    },
    {
      "cell_type": "code",
      "source": [
        "# Define color map\n",
        "nbr_colors = [\"gray\", \"y\", \"yellowgreen\", \"g\", \"darkgreen\"]\n",
        "nbr_cmap = ListedColormap(nbr_colors) #https://matplotlib.org/stable/api/_as_gen/matplotlib.colors.ListedColormap.html\n",
        "\n",
        "# Define class names\n",
        "ndvi_cat_names = [\n",
        "    \"No Vegetation\",\n",
        "    \"Bare Area\",\n",
        "    \"Low Vegetation\",\n",
        "    \"Moderate Vegetation\",\n",
        "    \"High Vegetation\",\n",
        "]\n",
        "\n",
        "# Get list of classes\n",
        "classes = np.unique(ndvi_landsat_class) #https://numpy.org/doc/stable/reference/generated/numpy.unique.html\n",
        "classes = classes.tolist() #https://numpy.org/doc/stable/reference/generated/numpy.ndarray.tolist.html\n",
        "\n",
        "# The mask returns a value of none in the classes. remove that\n",
        "classes = classes[0:5]\n",
        "\n",
        "# Plot your data\n",
        "fig, ax = plt.subplots(figsize=(12, 12))\n",
        "im = ax.imshow(ndvi_landsat_class, cmap=nbr_cmap) #https://matplotlib.org/stable/api/_as_gen/matplotlib.pyplot.imshow.html\n",
        "\n",
        "ep.draw_legend(im_ax=im, classes=classes, titles=ndvi_cat_names) #https://earthpy.readthedocs.io/en/latest/api/earthpy.plot.html#earthpy.plot.draw_legend\n",
        "\n",
        "ax.set_title(\n",
        "    \"Landsat 8 - Normalized Difference Vegetation Index (NDVI) Classes\",\n",
        "    fontsize=14,\n",
        "    ) #https://matplotlib.org/stable/api/_as_gen/matplotlib.axes.Axes.set_title.html\n",
        "\n",
        "ax.set_axis_off() #https://matplotlib.org/stable/api/_as_gen/matplotlib.axes.Axes.set_axis_off.html\n",
        "\n",
        "# Auto adjust subplot to fit figure size\n",
        "plt.tight_layout() #https://matplotlib.org/stable/api/_as_gen/matplotlib.pyplot.tight_layout.html"
      ],
      "metadata": {
        "id": "1reOFLs_1WTa"
      },
      "execution_count": null,
      "outputs": []
    },
    {
      "cell_type": "markdown",
      "source": [
        "Let's refactor our code a bit then make it possible to run all the steps with a function command called `run_everything`"
      ],
      "metadata": {
        "id": "ecYOPZGfkWIn"
      }
    },
    {
      "cell_type": "code",
      "source": [
        "class NDVI:\n",
        "  def __init__(self, data_dir, file_name_glob, no_data_value):\n",
        "    self.data_dir = data_dir\n",
        "    self.file_name_glob = file_name_glob\n",
        "    self.no_data_value = no_data_value\n",
        "    \n",
        "    os.chdir(os.path.join(et.io.HOME, data_dir))\n",
        "  \n",
        "  def calculate(self, red_band_number, nir_band_number):\n",
        "    data_path = glob(\n",
        "    self.file_name_glob\n",
        "    )\n",
        "    data_path.sort()\n",
        "    self.arr_st, self.meta = es.stack(landsat_path, nodata=-9999)\n",
        "    self.ndvi = es.normalized_diff(self.arr_st[nir_band_number], self.arr_st[red_band_number])\n",
        "  \n",
        "  def plot_ndvi(self, layer, titles, cmap):\n",
        "    ep.plot_bands(layer, cmap=\"RdYlGn\", cols=1, title=titles, vmin=-1, vmax=1)\n",
        "  \n",
        "  def classify(self, class_bins):\n",
        "    # Create classes and apply to NDVI results\n",
        "    self.ndvi_class = np.digitize(self.ndvi, class_bins)\n",
        "    # Apply the nodata mask to the newly classified NDVI data\n",
        "    self.ndvi_class = np.ma.masked_where(\n",
        "        np.ma.getmask(self.ndvi), self.ndvi_class\n",
        "    )\n",
        "    self.classes = np.unique(self.ndvi_class)\n",
        "    self.classes = self.classes.tolist()\n",
        "    self.classes = self.classes[0:5]\n",
        "\n",
        "  def plot_classes(self, class_names, cmap_colors, title):\n",
        "    cmap = ListedColormap(cmap_colors)\n",
        "    fig, ax = plt.subplots(figsize=(12, 12))\n",
        "    im = ax.imshow(self.ndvi_class, cmap=cmap)\n",
        "    ep.draw_legend(im_ax=im, classes=self.classes, titles=class_names)\n",
        "    ax.set_title(title, fontsize=14)\n",
        "    ax.set_axis_off()\n",
        "    plt.tight_layout()\n",
        "\n",
        "\n",
        "def run_everything(\n",
        "    data_dir,\n",
        "    file_name_glob,\n",
        "    no_data_value,\n",
        "    red_band_number,\n",
        "    nir_band_number,\n",
        "    ndvi_plot_title,\n",
        "    ndvi_plot_cmap,\n",
        "    ndvi_class_bins,\n",
        "    ndvi_class_names,\n",
        "    ndvi_class_colors,\n",
        "    ndvi_class_title,\n",
        "    your_csulb_email\n",
        "    ):\n",
        "  \n",
        "  index = NDVI(\n",
        "    data_dir=data_dir, \n",
        "    file_name_glob=file_name_glob,\n",
        "    no_data_value=no_data_value\n",
        "    )\n",
        "\n",
        "  index.calculate(\n",
        "      red_band_number=red_band_number, \n",
        "      nir_band_number=nir_band_number\n",
        "      )\n",
        "  \n",
        "  index.plot_ndvi(\n",
        "    layer=index.ndvi, \n",
        "    titles=[ndvi_plot_title + \" \" + your_csulb_email],\n",
        "    cmap=ndvi_plot_cmap\n",
        "    )\n",
        "  \n",
        "  index.classify(\n",
        "    class_bins=ndvi_class_bins\n",
        "    )\n",
        "  \n",
        "  index.plot_classes(\n",
        "    class_names=ndvi_class_names,\n",
        "    cmap_colors=ndvi_class_colors,\n",
        "    title=ndvi_class_title + \" \" + your_csulb_email\n",
        ")\n",
        "  \n"
      ],
      "metadata": {
        "id": "p1wefAB51a3Y"
      },
      "execution_count": null,
      "outputs": []
    },
    {
      "cell_type": "markdown",
      "source": [
        "Please update the code cell below.\n",
        "* Update `your_csulb_email` value to your actual CSULB email address"
      ],
      "metadata": {
        "id": "-aep8DUSksYJ"
      }
    },
    {
      "cell_type": "code",
      "source": [
        "run_everything(\n",
        "    data_dir=\"earth-analytics\",\n",
        "    file_name_glob=\"data/vignette-landsat/LC08_L1TP_034032_20160621_20170221_01_T1_sr_band*_crop.tif\",\n",
        "    no_data_value=-9999,\n",
        "    red_band_number=3,\n",
        "    nir_band_number=4,\n",
        "    ndvi_plot_title=\"Landsat 8 - Normalized Difference Vegetation Index (NDVI)\",\n",
        "    ndvi_plot_cmap=\"RdYlGn\",\n",
        "    ndvi_class_bins=[-np.inf, 0, 0.1, 0.25, 0.4, np.inf],\n",
        "    ndvi_class_names=[\"No Vegetation\", \"Bare Area\", \"Low Vegetation\", \"Moderate Vegetation\", \"High Vegetation\"],\n",
        "    ndvi_class_colors=[\"gray\", \"y\", \"yellowgreen\", \"g\", \"darkgreen\"],\n",
        "    ndvi_class_title=\"Landsat 8 - Normalized Difference Vegetation Index (NDVI) Classes\",\n",
        "    your_csulb_email=\"alex.pakalniskis@csulb.edu\"\n",
        ")"
      ],
      "metadata": {
        "id": "wQBWcjCdi4ap"
      },
      "execution_count": null,
      "outputs": []
    },
    {
      "cell_type": "markdown",
      "source": [
        "## Part 2: Article summaries\n",
        "Read each article and please summarize it below in 2-4 sentences. Do not use any large language AI models like ChatGPT.\n",
        "\n",
        "[Pettorelli, Nathalie, et al. \"Using the satellite-derived NDVI to assess ecological responses to environmental change.\" Trends in ecology & evolution 20.9 (2005): 503-510.](http://www.arctic-predators.uit.no/biblio_IPYappl/PettorelliTREE05%20ecological%20responses%20NDVI.pdf)\n",
        "* Replace this text with your summary\n",
        "\n",
        "[Wasser, Leah, et al. \"EarthPy: A Python package that makes it easier to explore and plot raster and vector data using open source Python tools.\" Journal of Open Source Software 4.43 (2019): 1886.](https://joss.theoj.org/papers/10.21105/joss.01886.pdf)\n",
        "* Replace this text with your summary\n",
        "\n",
        "[Xu, Yang, et al. \"Bibliometric Analysis of Global NDVI Research Trends from 1985 to 2021.\" Remote Sensing 14.16 (2022): 3967.](https://www.mdpi.com/2072-4292/14/16/3967)\n",
        "* Replace this text with your summary\n"
      ],
      "metadata": {
        "id": "TxymxVEbfyqS"
      }
    },
    {
      "cell_type": "markdown",
      "source": [
        "## Part 3: Semester project planning\n",
        "1. [Add @alex-pakalniskis as a collaborator to the Repository you were asked to create during Lab 0](https://docs.github.com/en/enterprise-cloud@latest/account-and-profile/setting-up-and-managing-your-personal-account-on-github/managing-access-to-your-personal-repositories/inviting-collaborators-to-a-personal-repository#inviting-a-collaborator-to-a-personal-repository)\n",
        "  1. Navigate to the repo you created during Lab 0\n",
        "  1. Click **Settings**. If you cannot see the \"Settings\" tab, select the  dropdown menu, then click **Settings**.\n",
        "  1. In the \"Access\" section of the sidebar, click **Collaborators & teams**.\n",
        "  1. Click **Invite a collaborator**.\n",
        "  1. In the search field, start typing the name of person you want to invite, then click a name in the list of matches.\n",
        "  1. Click Add NAME to REPOSITORY.\n",
        "1. Create a new item in the Project you were asked to create during Lab 0\n",
        "  1. Navigate to the GitHub Project I asked you to create during Lab 0\n",
        "  1. At the bottom of the Project, add a new item to the Repository you created during Lab 0\n",
        "  1. Type a \"#\" symbol to open the repository drop down menu then select the repo you created during Lab 0\n",
        "  1. Start typing \"Semester project\" in the updated input area then select \"Create new issue\"\n",
        "  1. Under Leave a comment, add @alex-pakalniskis as your text response then click **Create** \n",
        "1. Your instructor will reply in a comment with next steps about the project. \n",
        "1. Enjoy the rest of your weekend and spring break! See you again on April 8.\n"
      ],
      "metadata": {
        "id": "vIxQjtVsiInX"
      }
    },
    {
      "cell_type": "markdown",
      "source": [
        "## Your deliverable\n",
        "* Upload your Python notebook with executed code cells and written responses to the GitHub repo I asked you to create during Lab 0\n",
        "* Post a new comment with a link to the notebook in your repo on the issue you created in https://github.com/alex-pakalniskis/gisc606-spring2023 during Lab 0"
      ],
      "metadata": {
        "id": "SWEn3tDvfho5"
      }
    }
  ]
}