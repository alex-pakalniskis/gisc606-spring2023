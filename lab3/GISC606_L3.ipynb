{
  "nbformat": 4,
  "nbformat_minor": 0,
  "metadata": {
    "colab": {
      "provenance": [],
      "authorship_tag": "ABX9TyP99l+zMMM+WWBYFnzh7HML",
      "include_colab_link": true
    },
    "kernelspec": {
      "name": "python3",
      "display_name": "Python 3"
    },
    "language_info": {
      "name": "python"
    }
  },
  "cells": [
    {
      "cell_type": "markdown",
      "metadata": {
        "id": "view-in-github",
        "colab_type": "text"
      },
      "source": [
        "<a href=\"https://colab.research.google.com/github/alex-pakalniskis/gisc606-spring2023/blob/main/lab3/GISC606_L3.ipynb\" target=\"_parent\"><img src=\"https://colab.research.google.com/assets/colab-badge.svg\" alt=\"Open In Colab\"/></a>"
      ]
    },
    {
      "cell_type": "markdown",
      "source": [
        "# Lab 3: Lidar data products (10 points)\n",
        "*Adaptation of [Chapter 5: Raster Data Processing in Python](https://www.earthdatascience.org/courses/use-data-open-source-python/intro-raster-data-python/raster-data-processing/) from [Use Data for Earth and Environmental Science in Open Source Python Textbook](https://www.earthdatascience.org/courses/use-data-open-source-python/) by [Earth Lab at University of Colorado, Boulder](http://www.colorado.edu/earthlab)*\n",
        "\n",
        "## Objectives\n",
        "* Practice using the [Linux command line](https://ubuntu.com/tutorials/command-line-for-beginners#1-overview) \n",
        "* Calculate a canopy height model (CHM) with Python on [LiDAR data](https://earthpy.readthedocs.io/en/latest/earthpy-data-subsets.html#colorado-flood)\n",
        "    * Data were collected by National Ecological Observatory Network (NEON) before and after the [2013 Colorado floods](https://en.wikipedia.org/wiki/2013_Colorado_floods) \n",
        "\n",
        "\n",
        "\n",
        "\n",
        "\n",
        "## Part 0: Install Python dependencies in Google Colaboratory\n",
        "We're using some non-standard GIS libraries that aren't pre-installed in Colaboratory, so let's install them before we begin our analysis.\n",
        "1. Use [`pip`](https://pypi.org/project/pip/), the Python package installer, to install [`earthpy`](https://earthpy.readthedocs.io/en/latest/) and [`rioxarray`](https://corteva.github.io/rioxarray/stable/)."
      ],
      "metadata": {
        "id": "jq6ddczq7nB7"
      }
    },
    {
      "cell_type": "code",
      "source": [
        "!pip install earthpy rioxarray"
      ],
      "metadata": {
        "id": "VqcE4cdx7w0L"
      },
      "execution_count": null,
      "outputs": []
    },
    {
      "cell_type": "markdown",
      "source": [
        "\n",
        "\n",
        "## Part 1: Download Raster Data\n",
        "\n",
        "1. Download the lab data using [`wget`](https://www.gnu.org/software/wget/). We're using the data linked at the \"Download Colorado Flood Teaching Data Subset data\" button found here: https://www.earthdatascience.org/courses/use-data-open-source-python/intro-raster-data-python/raster-data-processing/\n",
        "\n"
      ],
      "metadata": {
        "id": "YyRWXtrQ3j_h"
      }
    },
    {
      "cell_type": "code",
      "execution_count": null,
      "metadata": {
        "id": "NLtrDzEM3goU"
      },
      "outputs": [],
      "source": [
        "!wget https://ndownloader.figshare.com/files/12395030"
      ]
    },
    {
      "cell_type": "markdown",
      "source": [
        "2. Display directory contents after data download with [`ls`](https://man7.org/linux/man-pages/man1/ls.1.html)."
      ],
      "metadata": {
        "id": "SLE9xi905PLD"
      }
    },
    {
      "cell_type": "code",
      "source": [
        "!ls"
      ],
      "metadata": {
        "id": "a_0ObmNd4iIq"
      },
      "execution_count": null,
      "outputs": []
    },
    {
      "cell_type": "markdown",
      "source": [
        "3. Display downloaded data file type with [`file`](https://man7.org/linux/man-pages/man1/file.1.html)"
      ],
      "metadata": {
        "id": "aecMTiGV5n7o"
      }
    },
    {
      "cell_type": "code",
      "source": [
        "!file 12395030"
      ],
      "metadata": {
        "id": "aSceSunU5Uo-"
      },
      "execution_count": null,
      "outputs": []
    },
    {
      "cell_type": "markdown",
      "source": [
        "4. Unzip the data with [`unzip`](https://manpages.ubuntu.com/manpages/focal/man1/unzip.1.html)"
      ],
      "metadata": {
        "id": "Zq0zikmt5wJ5"
      }
    },
    {
      "cell_type": "code",
      "source": [
        "!unzip 12395030"
      ],
      "metadata": {
        "id": "eDgOvgLo5cEM"
      },
      "execution_count": null,
      "outputs": []
    },
    {
      "cell_type": "markdown",
      "source": [
        "5. Display directory contents after unzipping (use `ls`)"
      ],
      "metadata": {
        "id": "3BGpo4bj58Fn"
      }
    },
    {
      "cell_type": "code",
      "source": [
        "!ls"
      ],
      "metadata": {
        "id": "fze8NOZ052CE"
      },
      "execution_count": null,
      "outputs": []
    },
    {
      "cell_type": "code",
      "source": [
        "!ls discharge"
      ],
      "metadata": {
        "id": "IaTueVrU5-cE"
      },
      "execution_count": null,
      "outputs": []
    },
    {
      "cell_type": "code",
      "source": [
        "!ls precipitation"
      ],
      "metadata": {
        "id": "FxXUCf7b6JV0"
      },
      "execution_count": null,
      "outputs": []
    },
    {
      "cell_type": "code",
      "source": [
        "!ls spatial"
      ],
      "metadata": {
        "id": "i-mKRwPY6RaA"
      },
      "execution_count": null,
      "outputs": []
    },
    {
      "cell_type": "code",
      "source": [
        "!ls spatial/boulder-leehill-rd/"
      ],
      "metadata": {
        "id": "9pOUC52D6SzY"
      },
      "execution_count": null,
      "outputs": []
    },
    {
      "cell_type": "code",
      "source": [
        "!ls spatial/boulder-lidar-points/"
      ],
      "metadata": {
        "id": "RZxym1ZW6WSx"
      },
      "execution_count": null,
      "outputs": []
    },
    {
      "cell_type": "markdown",
      "source": [
        "6. Display directory contents as a \"tree\" with [`tree`](https://linux.die.net/man/1/tree)"
      ],
      "metadata": {
        "id": "Qm91oxTwxI-s"
      }
    },
    {
      "cell_type": "code",
      "source": [
        "!apt-get install tree\n",
        "!tree ."
      ],
      "metadata": {
        "id": "nUkg2DWixCu8"
      },
      "execution_count": null,
      "outputs": []
    },
    {
      "cell_type": "markdown",
      "source": [
        "## Part 2: Subtract Rasters & Export Geotiffs\n",
        "1. Import `python` dependencies"
      ],
      "metadata": {
        "id": "ESX639Cx64PT"
      }
    },
    {
      "cell_type": "code",
      "source": [
        "import os #https://docs.python.org/3/library/os.html\n",
        "import numpy as np #https://numpy.org/\n",
        "import matplotlib.pyplot as plt #https://matplotlib.org/stable/tutorials/introductory/pyplot.html\n",
        "import seaborn as sns #https://seaborn.pydata.org/\n",
        "import rioxarray as rxr #https://corteva.github.io/rioxarray/stable/\n",
        "import earthpy as et #https://earthpy.readthedocs.io/en/latest/\n",
        "\n",
        "# Prettier plotting with seaborn\n",
        "sns.set_theme(font_scale=1.5, style=\"whitegrid\") #https://seaborn.pydata.org/generated/seaborn.set_theme.html#seaborn.set_theme"
      ],
      "metadata": {
        "id": "o2tnk4WM7K3s"
      },
      "execution_count": null,
      "outputs": []
    },
    {
      "cell_type": "markdown",
      "source": [
        "2. Open and plot the lidar DEM metadata and data"
      ],
      "metadata": {
        "id": "XPxd5DOc8k8M"
      }
    },
    {
      "cell_type": "code",
      "source": [
        "# Define relative path to file\n",
        "lidar_dem_path = os.path.join(\"spatial\",\n",
        "                              \"boulder-leehill-rd\",\n",
        "                              \"pre-flood\",\n",
        "                              \"lidar\",\n",
        "                              \"pre_DTM.tif\") #https://docs.python.org/3/library/os.path.html#os.path.join\n",
        "\n",
        "# Open lidar dem\n",
        "lidar_dem_xr = rxr.open_rasterio(lidar_dem_path, masked=True).squeeze() #https://corteva.github.io/rioxarray/html/rioxarray.html#rioxarray.open_rasterio , https://xarray.pydata.org/en/v2023.03.0/generated/xarray.Dataset.squeeze.html#xarray-dataset-squeeze\n",
        "lidar_dem_xr"
      ],
      "metadata": {
        "id": "RaTeJNXT8H6-"
      },
      "execution_count": null,
      "outputs": []
    },
    {
      "cell_type": "code",
      "source": [
        "# Plot the data\n",
        "f, ax = plt.subplots(figsize=(10, 5)) #https://matplotlib.org/stable/api/_as_gen/matplotlib.pyplot.subplots.html\n",
        "lidar_dem_xr.plot(cmap=\"Greens\") #https://docs.xarray.dev/en/stable/generated/xarray.DataArray.plot.html\n",
        "ax.set(title=\"DEM for Lee Hill Road Pre-Flood\") #https://matplotlib.org/stable/api/_as_gen/matplotlib.axes.Axes.set.html\n",
        "ax.set_axis_off() #https://matplotlib.org/stable/api/_as_gen/matplotlib.axes.Axes.set_axis_off.html\n",
        "plt.show() #https://matplotlib.org/stable/api/_as_gen/matplotlib.pyplot.show.html"
      ],
      "metadata": {
        "id": "Fnx1NIBT8Y8N"
      },
      "execution_count": null,
      "outputs": []
    },
    {
      "cell_type": "markdown",
      "source": [
        "3. Open and plot the lidar DSM metadata and data"
      ],
      "metadata": {
        "id": "zKHdzpBF9HI8"
      }
    },
    {
      "cell_type": "code",
      "source": [
        "# Define relative path to file\n",
        "lidar_dsm_path = os.path.join(\"spatial\",\n",
        "                              \"boulder-leehill-rd\",\n",
        "                              \"pre-flood\",\n",
        "                              \"lidar\",\n",
        "                              \"pre_DSM.tif\")\n",
        "\n",
        "# Open lidar dem\n",
        "lidar_dsm_xr = rxr.open_rasterio(lidar_dsm_path, masked=True).squeeze()\n",
        "lidar_dsm_xr"
      ],
      "metadata": {
        "id": "3bmqLK5c8-Ne"
      },
      "execution_count": null,
      "outputs": []
    },
    {
      "cell_type": "code",
      "source": [
        "# Plot the data\n",
        "f, ax = plt.subplots(figsize=(10, 5))\n",
        "lidar_dsm_xr.plot(cmap=\"Greens\")\n",
        "ax.set(title=\"DSM for Lee Hill Road Pre-Flood\")\n",
        "ax.set_axis_off()\n",
        "plt.show()"
      ],
      "metadata": {
        "id": "vtGu_quH9Smy"
      },
      "execution_count": null,
      "outputs": []
    },
    {
      "cell_type": "markdown",
      "source": [
        "4. Calculate the canopy height model (CHM) and plot the result\n",
        "\n",
        "$CHM = DSM - DEM$"
      ],
      "metadata": {
        "id": "yuwf59Jh9ew1"
      }
    },
    {
      "cell_type": "code",
      "source": [
        "# First check that the rasters cover the same spatial extent and have the same spatial resolution\n",
        "# Are the bounds the same?\n",
        "print(\"Is the spatial extent the same?\",\n",
        "      lidar_dem_xr.rio.bounds() == lidar_dsm_xr.rio.bounds()) #https://corteva.github.io/rioxarray/html/rioxarray.html#rioxarray.rioxarray.XRasterBase.bounds\n",
        "\n",
        "# Is the resolution the same ??\n",
        "print(\"Is the resolution the same?\",\n",
        "      lidar_dem_xr.rio.resolution() == lidar_dsm_xr.rio.resolution()) #https://corteva.github.io/rioxarray/html/rioxarray.html#rioxarray.rioxarray.XRasterBase.resolution"
      ],
      "metadata": {
        "id": "s6L2R2lh9Yb2"
      },
      "execution_count": null,
      "outputs": []
    },
    {
      "cell_type": "code",
      "source": [
        "# Calculate canopy height model\n",
        "lidar_chm_xr = lidar_dsm_xr - lidar_dem_xr\n",
        "\n",
        "# Plot the data\n",
        "f, ax = plt.subplots(figsize=(10, 5))\n",
        "lidar_chm_xr.plot(cmap=\"Greens\")\n",
        "ax.set(title=\"Canopy Height Model for Lee Hill Road Pre-Flood\")\n",
        "ax.set_axis_off()\n",
        "plt.show()"
      ],
      "metadata": {
        "id": "M_8urzMZ-X9W"
      },
      "execution_count": null,
      "outputs": []
    },
    {
      "cell_type": "markdown",
      "source": [
        "5. Investigate the CHM data"
      ],
      "metadata": {
        "id": "GffGU8GI-kR0"
      }
    },
    {
      "cell_type": "code",
      "source": [
        "# Plot a histogram of the CHM data\n",
        "lidar_chm_xr.plot.hist() #https://docs.xarray.dev/en/stable/generated/xarray.plot.hist.html\n",
        "plt.show()"
      ],
      "metadata": {
        "id": "eBDSJ4zU-dOr"
      },
      "execution_count": null,
      "outputs": []
    },
    {
      "cell_type": "code",
      "source": [
        "# Check the minimum and maximum CHM values\n",
        "print('CHM minimum value: ', np.nanmin(lidar_chm_xr)) #https://numpy.org/doc/stable/reference/generated/numpy.nanmin.html\n",
        "print('CHM max value: ', np.nanmax(lidar_chm_xr)) #https://numpy.org/doc/stable/reference/generated/numpy.nanmax.html\n"
      ],
      "metadata": {
        "id": "KyCNsijl-rbi"
      },
      "execution_count": null,
      "outputs": []
    },
    {
      "cell_type": "markdown",
      "source": [
        "6. Save CHM data as a Geotiff"
      ],
      "metadata": {
        "id": "YH_JU_FS-9CO"
      }
    },
    {
      "cell_type": "code",
      "source": [
        "data_path = os.path.join(\"spatial\",\n",
        "                         \"outputs\")\n",
        "\n",
        "if os.path.exists(data_path): # https://docs.python.org/3/library/os.path.html#os.path.exists\n",
        "    print(\"The directory\", data_path, \"exists!\")\n",
        "else:\n",
        "    os.makedirs(data_path) #https://docs.python.org/3/library/os.html#os.makedirs\n",
        "\n",
        "# Make sure that your output data has a crs & no data value defined\n",
        "print(\"The crs is\", lidar_chm_xr.rio.crs) #https://corteva.github.io/rioxarray/stable/rioxarray.html#rioxarray.rioxarray.XRasterBase.crs\n",
        "print(\"The no data value is\", lidar_chm_xr.rio.nodata) #https://corteva.github.io/rioxarray/stable/rioxarray.html#rioxarray.raster_array.RasterArray.nodata\n",
        "\n",
        "pre_chm_data_path = os.path.join(data_path, \"pre-flood-chm.tif\")\n",
        "print(f\"CHM data saved here: {pre_chm_data_path}\")\n",
        "\n",
        "\n",
        "# Export data to geotiff\n",
        "lidar_chm_xr.rio.to_raster(pre_chm_data_path) #https://corteva.github.io/rioxarray/stable/rioxarray.html#rioxarray.raster_array.RasterArray.to_raster\n"
      ],
      "metadata": {
        "id": "4MFOggeH-5h5"
      },
      "execution_count": null,
      "outputs": []
    },
    {
      "cell_type": "markdown",
      "source": [
        "7. Open the CHM Geotiff and plot it"
      ],
      "metadata": {
        "id": "ddJI6hM4_aWd"
      }
    },
    {
      "cell_type": "code",
      "source": [
        "lidar_chm_xr_test = rxr.open_rasterio(pre_chm_data_path, masked=True).squeeze()\n",
        "lidar_chm_xr_test"
      ],
      "metadata": {
        "id": "kP4uinQ__ZQh"
      },
      "execution_count": null,
      "outputs": []
    },
    {
      "cell_type": "code",
      "source": [
        "# Plot the data\n",
        "f, ax = plt.subplots(figsize=(10, 5))\n",
        "lidar_chm_xr_test.plot(cmap=\"Greens\")\n",
        "ax.set(title=\"Canopy Height Model (Geotiff) for Lee Hill Road Pre-Flood\")\n",
        "ax.set_axis_off()\n",
        "plt.show()"
      ],
      "metadata": {
        "id": "fmHvncux_p9q"
      },
      "execution_count": null,
      "outputs": []
    },
    {
      "cell_type": "markdown",
      "source": [
        "## Part 3: Manually Reclassify Raster Data\n",
        "1. Import some more `python` dependencies"
      ],
      "metadata": {
        "id": "505-MKzo__lk"
      }
    },
    {
      "cell_type": "code",
      "source": [
        "from matplotlib.colors import ListedColormap, BoundaryNorm #https://matplotlib.org/stable/api/_as_gen/matplotlib.colors.ListedColormap.html , https://matplotlib.org/stable/api/_as_gen/matplotlib.colors.BoundaryNorm.html\n",
        "import earthpy.plot as ep #https://earthpy.readthedocs.io/en/latest/api/earthpy.plot.html\n",
        "import xarray as xr #https://docs.xarray.dev/en/stable/"
      ],
      "metadata": {
        "id": "vExrjsIi_3SU"
      },
      "execution_count": null,
      "outputs": []
    },
    {
      "cell_type": "markdown",
      "source": [
        "2. Display some raster summary statistics"
      ],
      "metadata": {
        "id": "Nl8mvi2aAtV1"
      }
    },
    {
      "cell_type": "code",
      "source": [
        "f, ax = plt.subplots()\n",
        "lidar_chm_xr.plot.hist(color=\"purple\")\n",
        "ax.set(title=\"Distribution of Raster Cell Values in the CHM Data\",\n",
        "       xlabel=\"Height (m)\",\n",
        "       ylabel=\"Number of Pixels\")\n",
        "plt.show()"
      ],
      "metadata": {
        "id": "LdIQpb4dAsZ8"
      },
      "execution_count": null,
      "outputs": []
    },
    {
      "cell_type": "code",
      "source": [
        "# Histogram with custom breaks\n",
        "f, ax = plt.subplots()\n",
        "lidar_chm_xr.plot.hist(color=\"purple\",\n",
        "                        bins=[0, 5, 10, 15, 20, 30])\n",
        "ax.set(title=\"Histogram with Custom Breaks\",\n",
        "       xlabel=\"Height (m)\",\n",
        "       ylabel=\"Number of Pixels\")\n",
        "\n",
        "plt.show()"
      ],
      "metadata": {
        "id": "ztBG10kJAzlG"
      },
      "execution_count": null,
      "outputs": []
    },
    {
      "cell_type": "markdown",
      "source": [
        "* 0 - 2 = no trees\n",
        "* 2 - 7 = short trees\n",
        "* 7 - 12 = medium trees\n",
        "* greater than 12 = tall trees"
      ],
      "metadata": {
        "id": "TRgDqvvYBkQ7"
      }
    },
    {
      "cell_type": "code",
      "source": [
        "# Histogram with custom breaks\n",
        "f, ax = plt.subplots()\n",
        "\n",
        "lidar_chm_xr.plot.hist(\n",
        "    color='purple',\n",
        "    bins=[0, 2, 7, 12, 30])\n",
        "ax.set(title=\"Histogram with Custom Breaks\",\n",
        "       xlabel=\"Height (m)\",\n",
        "       ylabel=\"Number of Pixels\")\n",
        "\n",
        "plt.show()"
      ],
      "metadata": {
        "id": "hcrw2J9oBcbd"
      },
      "execution_count": null,
      "outputs": []
    },
    {
      "cell_type": "markdown",
      "source": [
        "3. Map raster values to new values (reclassify)\n",
        "\n",
        "* No trees: (0m - 2m tall) = NA\n",
        "* Short trees: (2m - 7m tall) = 1\n",
        "* Medium trees: (7m - 12m tall) = 2\n",
        "* Tall trees: (> 12m tall) = 3\n",
        "\n",
        "> Notice in the list above that you set cells with a value between 0 and 2 meters to NA or nodata value. This means you are assuming that there are no trees in those locations\n",
        "\n",
        "* 0 - 2 meters -> 1\n",
        "* 2 - 7 meters -> 2 (short trees)\n",
        "* 7 - 12 meters -> 3 (medium trees)\n",
        "* greater than 12 or 12 - Inf -> 4 (tall trees)\n",
        "\n",
        "\n"
      ],
      "metadata": {
        "id": "PPP2s4RuB7WI"
      }
    },
    {
      "cell_type": "code",
      "source": [
        "data_min_value = np.nanmin(lidar_chm_xr)\n",
        "data_max_value = np.nanmax(lidar_chm_xr)\n",
        "\n",
        "class_bins = [-np.inf, 2, 7, 12, np.inf]\n",
        "\n",
        "lidar_chm_xr_class = xr.apply_ufunc(np.digitize,\n",
        "                                     lidar_chm_xr,\n",
        "                                     class_bins) #https://docs.xarray.dev/en/stable/generated/xarray.apply_ufunc.html\n",
        "\n",
        "im = lidar_chm_xr_class.plot.imshow() #https://docs.xarray.dev/en/stable/generated/xarray.plot.imshow.html\n",
        "ax.set_axis_off()\n"
      ],
      "metadata": {
        "id": "mEI3CtFRBjCs"
      },
      "execution_count": null,
      "outputs": []
    },
    {
      "cell_type": "markdown",
      "source": [
        "Let's try to make it a bit nicer looking by masking the no-data class"
      ],
      "metadata": {
        "id": "2egmRGb5y588"
      }
    },
    {
      "cell_type": "code",
      "source": [
        "pre_lidar_chm_class_ma = lidar_chm_xr_class.where(lidar_chm_xr_class != 5) #https://docs.xarray.dev/en/stable/generated/xarray.where.html\n",
        "\n",
        "# Plot newly classified and masked raster\n",
        "f, ax = plt.subplots(figsize=(10,5))\n",
        "pre_lidar_chm_class_ma.plot.imshow()\n",
        "ax.set(title=\"Classified Plot With a Colorbar\")\n",
        "\n",
        "ax.set_axis_off()\n",
        "plt.show()\n"
      ],
      "metadata": {
        "id": "rwE8-F0mCpJ1"
      },
      "execution_count": null,
      "outputs": []
    },
    {
      "cell_type": "markdown",
      "source": [
        "Let's try to improve the visualization a bit more by using specific colors."
      ],
      "metadata": {
        "id": "Ky9Ob6o7y_bC"
      }
    },
    {
      "cell_type": "code",
      "source": [
        "# Plot data using nicer colors\n",
        "colors = ['linen', 'lightgreen', 'darkgreen', 'maroon']\n",
        "class_bins = [.5, 1.5, 2.5, 3.5, 4.5]\n",
        "cmap = ListedColormap(colors)\n",
        "norm = BoundaryNorm(class_bins, \n",
        "                    len(colors))\n",
        "\n",
        "# Plot newly classified and masked raster\n",
        "f, ax = plt.subplots(figsize=(10, 5))\n",
        "pre_lidar_chm_class_ma.plot.imshow(cmap=cmap,\n",
        "                                   norm=norm)\n",
        "ax.set(title=\"Classified Plot With a Colorbar and Custom Colormap (cmap)\")\n",
        "ax.set_axis_off()\n",
        "plt.show()"
      ],
      "metadata": {
        "id": "bRAo_4jxC0Ji"
      },
      "execution_count": null,
      "outputs": []
    },
    {
      "cell_type": "markdown",
      "source": [
        "And finally let's add a legend"
      ],
      "metadata": {
        "id": "ulkc0gJBzJtB"
      }
    },
    {
      "cell_type": "code",
      "source": [
        "# Create a list of labels to use for your legend\n",
        "height_class_labels = [\"Short trees\",\n",
        "                       \"Medium trees\",\n",
        "                       \"Tall trees\",\n",
        "                       \"Really tall trees\"]\n",
        "\n",
        "# Create a colormap from a list of colors\n",
        "colors = ['linen',\n",
        "          'lightgreen',\n",
        "          'darkgreen',\n",
        "          'maroon']\n",
        "\n",
        "cmap = ListedColormap(colors)\n",
        "\n",
        "class_bins = [.5, 1.5, 2.5, 3.5, 4.5]\n",
        "norm = BoundaryNorm(class_bins,\n",
        "                    len(colors))\n",
        "\n",
        "# Plot newly classified and masked raster\n",
        "f, ax = plt.subplots(figsize=(10, 5))\n",
        "im = pre_lidar_chm_class_ma.plot.imshow(cmap=cmap,\n",
        "                                        norm=norm,\n",
        "                                        # Turn off colorbar\n",
        "                                        add_colorbar=False)\n",
        "# Add legend using earthpy\n",
        "ep.draw_legend(im,\n",
        "               titles=height_class_labels)\n",
        "ax.set(title=\"Classified Lidar Canopy Height Model \\n Derived from NEON AOP Data\")\n",
        "ax.set_axis_off()\n",
        "plt.show()"
      ],
      "metadata": {
        "id": "xiMvsY63C2px"
      },
      "execution_count": null,
      "outputs": []
    },
    {
      "cell_type": "markdown",
      "source": [
        "## Part 4: Crop Raster Data\n",
        "\n",
        "1. Import some more dependencies"
      ],
      "metadata": {
        "id": "Vqo65300DDA_"
      }
    },
    {
      "cell_type": "code",
      "source": [
        "from shapely.geometry import mapping #https://shapely.readthedocs.io/en/stable/manual.html?highlight=mapping#shapely.geometry.mapping\n",
        "import geopandas as gpd #https://geopandas.org/en/stable/index.html"
      ],
      "metadata": {
        "id": "cxUD0Xn-C6oN"
      },
      "execution_count": null,
      "outputs": []
    },
    {
      "cell_type": "markdown",
      "source": [
        "2. Open the vector cropping layer and print CRS data"
      ],
      "metadata": {
        "id": "MkAPJO8SEo5d"
      }
    },
    {
      "cell_type": "code",
      "source": [
        "aoi = os.path.join(\"spatial\",\n",
        "                   \"boulder-leehill-rd\",\n",
        "                   \"clip-extent.shp\")\n",
        "\n",
        "# Open crop extent (your study area extent boundary)\n",
        "crop_extent = gpd.read_file(aoi) #https://geopandas.org/en/stable/docs/reference/api/geopandas.read_file.html\n",
        "\n",
        "print('crop extent crs: ', crop_extent.crs) #https://geopandas.org/en/stable/docs/reference/api/geopandas.GeoSeries.crs.html\n",
        "print('lidar crs: ', lidar_chm_xr.rio.crs)"
      ],
      "metadata": {
        "id": "YGc0MKefEEZF"
      },
      "execution_count": null,
      "outputs": []
    },
    {
      "cell_type": "code",
      "source": [
        "# Plot the crop boundary layer\n",
        "# Note this is just an example so you can see what it looks like\n",
        "# You don't need to plot this layer in your homework!\n",
        "fig, ax = plt.subplots(figsize=(6, 6))\n",
        "\n",
        "crop_extent.plot(ax=ax) #https://geopandas.org/en/stable/docs/reference/api/geopandas.GeoDataFrame.plot.html\n",
        "\n",
        "ax.set_title(\"Shapefile Crop Extent\",\n",
        "             fontsize=16)\n",
        "plt.show()"
      ],
      "metadata": {
        "id": "-Nr-kipwE-rg"
      },
      "execution_count": null,
      "outputs": []
    },
    {
      "cell_type": "code",
      "source": [
        "f, ax = plt.subplots(figsize=(10, 5))\n",
        "lidar_chm_xr.plot.imshow(ax=ax)\n",
        "\n",
        "crop_extent.plot(ax=ax,\n",
        "                 alpha=.8)\n",
        "ax.set(title=\"Raster Layer with Shapefile Overlayed\")\n",
        "\n",
        "ax.set_axis_off()\n",
        "plt.show()"
      ],
      "metadata": {
        "id": "27C-6PEZFCDa"
      },
      "execution_count": null,
      "outputs": []
    },
    {
      "cell_type": "markdown",
      "source": [
        "3. Clip the CHM data to the vector boundary"
      ],
      "metadata": {
        "id": "eRNmmHfgFKqO"
      }
    },
    {
      "cell_type": "code",
      "source": [
        "lidar_clipped = lidar_chm_xr.rio.clip(crop_extent.geometry.apply(mapping),\n",
        "                                      # This is needed if your GDF is in a diff CRS than the raster data\n",
        "                                      crop_extent.crs) #https://corteva.github.io/rioxarray/stable/rioxarray.html#rioxarray.raster_array.RasterArray.clip\n",
        "\n",
        "f, ax = plt.subplots(figsize=(10, 4))\n",
        "lidar_clipped.plot(ax=ax)\n",
        "ax.set(title=\"Raster Layer Cropped to Geodataframe Extent\")\n",
        "ax.set_axis_off()\n",
        "plt.show()"
      ],
      "metadata": {
        "id": "6B8iPQFlFEix"
      },
      "execution_count": null,
      "outputs": []
    },
    {
      "cell_type": "markdown",
      "source": [
        "## Optional Extra credit (+5 points)\n",
        "1. Generate a post-flood canopy height model\n",
        "    1. You can use very similar commands to the pre-flood CHM but make sure you use the correct data path for post-flood data. Remember how we hard-coded the pre-flood path towards the top of the notebook? I recommend creating a new variable called `lidar_dem_path_post` to avoid variable conflicts and to use the `_post` suffix for all post-fire calculations. \n",
        "    ``` python\n",
        "    lidar_dem_path = os.path.join(\"spatial\",\n",
        "                              \"boulder-leehill-rd\",\n",
        "                              \"pre-flood\",\n",
        "                              \"lidar\",\n",
        "                              \"pre_DTM.tif\")\n",
        "    ```\n",
        "    becomes\n",
        "    ``` python\n",
        "    lidar_dem_path_post = os.path.join(\"spatial\",\n",
        "                              \"boulder-leehill-rd\",\n",
        "                              \"post-flood\",\n",
        "                              \"lidar\",\n",
        "                              \"post_DTM.tif\")\n",
        "    ```\n",
        "    then duplicate the remaining Python commands, making sure to update variable names with `_post` as necessary.\n",
        "\n",
        "    Please visualize your results too."
      ],
      "metadata": {
        "id": "MhDj9I5AzkEX"
      }
    },
    {
      "cell_type": "code",
      "source": [],
      "metadata": {
        "id": "6bwBUoitzjhA"
      },
      "execution_count": null,
      "outputs": []
    },
    {
      "cell_type": "code",
      "source": [],
      "metadata": {
        "id": "l2VBZaQS0Hal"
      },
      "execution_count": null,
      "outputs": []
    },
    {
      "cell_type": "markdown",
      "source": [
        "2. CHM-change raster\n",
        "    1. Similar to how we calculated NBR change raster during a previous lab, calculate the change in CHM and plot results. \n",
        "\n",
        "    After you generate the post-fire CHM you can calculate the difference between pre- and post-fire.\n",
        "    ``` python\n",
        "    lidar_chm_xr_delta = lidar_chm_xr_post - lidar_chm_xr\n",
        "    ```\n",
        "\n",
        "    Please visualize the change in CHM."
      ],
      "metadata": {
        "id": "xTBF7kFO17Wo"
      }
    },
    {
      "cell_type": "code",
      "source": [],
      "metadata": {
        "id": "ByXWTRF90Hi7"
      },
      "execution_count": null,
      "outputs": []
    },
    {
      "cell_type": "code",
      "source": [],
      "metadata": {
        "id": "imbHrO-A18Ej"
      },
      "execution_count": null,
      "outputs": []
    },
    {
      "cell_type": "markdown",
      "source": [
        "## Part 5: Readings\n",
        "Please read these articles then write 4-6 sentences about canopy height modeling and how it is similar or different across sensor platforms and geographic scales.\n",
        "1. https://www.sciencedirect.com/science/article/am/pii/S0034425720305381 \n",
        "1. https://www.mdpi.com/1999-4907/8/9/340 \n",
        "\n",
        "Put your summary here\n"
      ],
      "metadata": {
        "id": "JCdWS-TCrEIS"
      }
    },
    {
      "cell_type": "markdown",
      "source": [
        "## Part 6: Submit lab\n",
        "\n",
        "1. Click **File** > **Download** > **Download .iypnb**\n",
        "2. Navigate to the repo you created during lab 0\n",
        "3. Click **Add file** > **Upload files**\n",
        "4. Click **choose your files** then navigate to your downloaded Lab 4 notebook then select it for upload\n",
        "5. Click **Commit changes**\n",
        "\n",
        "Reach out to your instructor on Discord, GitHub, or email if you run into any issues. "
      ],
      "metadata": {
        "id": "jNf90najFdHx"
      }
    }
  ]
}